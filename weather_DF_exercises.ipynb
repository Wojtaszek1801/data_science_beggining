{
 "metadata": {
  "language_info": {
   "codemirror_mode": {
    "name": "ipython",
    "version": 3
   },
   "file_extension": ".py",
   "mimetype": "text/x-python",
   "name": "python",
   "nbconvert_exporter": "python",
   "pygments_lexer": "ipython3",
   "version": "3.8.4-final"
  },
  "orig_nbformat": 2,
  "kernelspec": {
   "name": "python38464bit5ff9940120d14a77bacde899b84cd449",
   "display_name": "Python 3.8.4 64-bit",
   "language": "python"
  }
 },
 "nbformat": 4,
 "nbformat_minor": 2,
 "cells": [
  {
   "cell_type": "code",
   "execution_count": 1,
   "metadata": {},
   "outputs": [],
   "source": [
    "import pandas as pd "
   ]
  },
  {
   "cell_type": "code",
   "execution_count": 2,
   "metadata": {},
   "outputs": [],
   "source": [
    "weather=pd.read_csv(r'C:\\Users\\Dell\\Desktop\\weather.csv', delimiter= ',')"
   ]
  },
  {
   "cell_type": "code",
   "execution_count": 3,
   "metadata": {},
   "outputs": [
    {
     "output_type": "stream",
     "name": "stdout",
     "text": [
      "       Data.Precipitation   Date.Full  Date.Month  Date.Week of  Date.Year  \\\n0                    0.00  2016-01-03           1             3       2016   \n1                    0.00  2016-01-03           1             3       2016   \n2                    0.16  2016-01-03           1             3       2016   \n3                    0.00  2016-01-03           1             3       2016   \n4                    0.01  2016-01-03           1             3       2016   \n...                   ...         ...         ...           ...        ...   \n16738                0.08  2017-01-01           1             1       2017   \n16739                0.00  2017-01-01           1             1       2017   \n16740                0.00  2017-01-01           1             1       2017   \n16741                0.06  2017-01-01           1             1       2017   \n16742                0.10  2017-01-01           1             1       2017   \n\n      Station.City Station.Code Station.Location Station.State  \\\n0       Birmingham          BHM   Birmingham, AL       Alabama   \n1       Huntsville          HSV   Huntsville, AL       Alabama   \n2           Mobile          MOB       Mobile, AL       Alabama   \n3       Montgomery          MGM   Montgomery, AL       Alabama   \n4        Anchorage          ANC    Anchorage, AK        Alaska   \n...            ...          ...              ...           ...   \n16738       Casper          CPR       Casper, WY       Wyoming   \n16739     Cheyenne          CYS     Cheyenne, WY       Wyoming   \n16740       Lander          LND       Lander, WY       Wyoming   \n16741      Rawlins          RWL      Rawlins, WY       Wyoming   \n16742     Sheridan          SHR     Sheridan, WY       Wyoming   \n\n       Data.Temperature.Avg Temp  Data.Temperature.Max Temp  \\\n0                             39                         46   \n1                             39                         47   \n2                             46                         51   \n3                             45                         52   \n4                             34                         38   \n...                          ...                        ...   \n16738                         23                         32   \n16739                         32                         42   \n16740                         17                         29   \n16741                         23                         31   \n16742                         21                         34   \n\n       Data.Temperature.Min Temp  Data.Wind.Direction  Data.Wind.Speed  \n0                             32                   33             4.33  \n1                             31                   32             3.86  \n2                             41                   35             9.73  \n3                             38                   32             6.86  \n4                             29                   19             7.80  \n...                          ...                  ...              ...  \n16738                         15                   23            19.98  \n16739                         21                   26            15.16  \n16740                          4                   26             1.65  \n16741                         13                   24            18.16  \n16742                          8                   23             7.51  \n\n[16743 rows x 14 columns]\n"
     ]
    }
   ],
   "source": [
    "print(weather)"
   ]
  },
  {
   "source": [
    "_Zadania:_\n",
    "\n",
    "1. Alfabetyczne poszeregowanie nazw stacji\n",
    "2. Zestawienie średnich wartości dla każdego stanu\n",
    "3. Posortowanie stanów wg średniego kierunku wiatru\n",
    "4. Zestawienie 10 miejscowości z najsilniejszym wiatrem"
   ],
   "cell_type": "markdown",
   "metadata": {}
  },
  {
   "source": [
    "Alphabetical sorting of station location names"
   ],
   "cell_type": "markdown",
   "metadata": {}
  },
  {
   "cell_type": "code",
   "execution_count": 4,
   "metadata": {},
   "outputs": [
    {
     "output_type": "execute_result",
     "data": {
      "text/plain": [
       "       Data.Precipitation   Date.Full  Date.Month  Date.Week of  Date.Year  \\\n",
       "3086                 0.03  2016-03-06           3             6       2016   \n",
       "6564                 0.15  2016-05-22           5            22       2016   \n",
       "8459                 0.00  2016-07-03           7             3       2016   \n",
       "9716                 0.87  2016-07-31           7            31       2016   \n",
       "4664                 0.09  2016-04-10           4            10       2016   \n",
       "...                   ...         ...         ...           ...        ...   \n",
       "3060                 0.56  2016-03-06           3             6       2016   \n",
       "7487                 0.67  2016-06-12           6            12       2016   \n",
       "4954                 0.89  2016-04-17           4            17       2016   \n",
       "10957                0.58  2016-08-28           8            28       2016   \n",
       "12222                0.00  2016-09-25           9            25       2016   \n",
       "\n",
       "            Station.City Station.Code       Station.Location Station.State  \\\n",
       "3086            Aberdeen          ABR           Aberdeen, SD  South Dakota   \n",
       "6564            Aberdeen          ABR           Aberdeen, SD  South Dakota   \n",
       "8459            Aberdeen          ABR           Aberdeen, SD  South Dakota   \n",
       "9716            Aberdeen          ABR           Aberdeen, SD  South Dakota   \n",
       "4664            Aberdeen          ABR           Aberdeen, SD  South Dakota   \n",
       "...                  ...          ...                    ...           ...   \n",
       "3060   Youngstown/Warren          YNG  Youngstown/Warren, OH          Ohio   \n",
       "7487   Youngstown/Warren          YNG  Youngstown/Warren, OH          Ohio   \n",
       "4954   Youngstown/Warren          YNG  Youngstown/Warren, OH          Ohio   \n",
       "10957  Youngstown/Warren          YNG  Youngstown/Warren, OH          Ohio   \n",
       "12222  Youngstown/Warren          YNG  Youngstown/Warren, OH          Ohio   \n",
       "\n",
       "       Data.Temperature.Avg Temp  Data.Temperature.Max Temp  \\\n",
       "3086                          34                         45   \n",
       "6564                          60                         75   \n",
       "8459                          65                         81   \n",
       "9716                          73                         84   \n",
       "4664                          38                         52   \n",
       "...                          ...                        ...   \n",
       "3060                          31                         38   \n",
       "7487                          64                         75   \n",
       "4954                          49                         63   \n",
       "10957                         73                         84   \n",
       "12222                         68                         80   \n",
       "\n",
       "       Data.Temperature.Min Temp  Data.Wind.Direction  Data.Wind.Speed  \n",
       "3086                          23                   17             6.91  \n",
       "6564                          45                   12            13.15  \n",
       "8459                          48                   16             7.06  \n",
       "9716                          61                   11             7.27  \n",
       "4664                          24                   25            12.88  \n",
       "...                          ...                  ...              ...  \n",
       "3060                          21                   21             4.85  \n",
       "7487                          53                   26             8.07  \n",
       "4954                          35                   11             6.37  \n",
       "10957                         60                   15             3.90  \n",
       "12222                         55                   15             3.62  \n",
       "\n",
       "[16743 rows x 14 columns]"
      ],
      "text/html": "<div>\n<style scoped>\n    .dataframe tbody tr th:only-of-type {\n        vertical-align: middle;\n    }\n\n    .dataframe tbody tr th {\n        vertical-align: top;\n    }\n\n    .dataframe thead th {\n        text-align: right;\n    }\n</style>\n<table border=\"1\" class=\"dataframe\">\n  <thead>\n    <tr style=\"text-align: right;\">\n      <th></th>\n      <th>Data.Precipitation</th>\n      <th>Date.Full</th>\n      <th>Date.Month</th>\n      <th>Date.Week of</th>\n      <th>Date.Year</th>\n      <th>Station.City</th>\n      <th>Station.Code</th>\n      <th>Station.Location</th>\n      <th>Station.State</th>\n      <th>Data.Temperature.Avg Temp</th>\n      <th>Data.Temperature.Max Temp</th>\n      <th>Data.Temperature.Min Temp</th>\n      <th>Data.Wind.Direction</th>\n      <th>Data.Wind.Speed</th>\n    </tr>\n  </thead>\n  <tbody>\n    <tr>\n      <th>3086</th>\n      <td>0.03</td>\n      <td>2016-03-06</td>\n      <td>3</td>\n      <td>6</td>\n      <td>2016</td>\n      <td>Aberdeen</td>\n      <td>ABR</td>\n      <td>Aberdeen, SD</td>\n      <td>South Dakota</td>\n      <td>34</td>\n      <td>45</td>\n      <td>23</td>\n      <td>17</td>\n      <td>6.91</td>\n    </tr>\n    <tr>\n      <th>6564</th>\n      <td>0.15</td>\n      <td>2016-05-22</td>\n      <td>5</td>\n      <td>22</td>\n      <td>2016</td>\n      <td>Aberdeen</td>\n      <td>ABR</td>\n      <td>Aberdeen, SD</td>\n      <td>South Dakota</td>\n      <td>60</td>\n      <td>75</td>\n      <td>45</td>\n      <td>12</td>\n      <td>13.15</td>\n    </tr>\n    <tr>\n      <th>8459</th>\n      <td>0.00</td>\n      <td>2016-07-03</td>\n      <td>7</td>\n      <td>3</td>\n      <td>2016</td>\n      <td>Aberdeen</td>\n      <td>ABR</td>\n      <td>Aberdeen, SD</td>\n      <td>South Dakota</td>\n      <td>65</td>\n      <td>81</td>\n      <td>48</td>\n      <td>16</td>\n      <td>7.06</td>\n    </tr>\n    <tr>\n      <th>9716</th>\n      <td>0.87</td>\n      <td>2016-07-31</td>\n      <td>7</td>\n      <td>31</td>\n      <td>2016</td>\n      <td>Aberdeen</td>\n      <td>ABR</td>\n      <td>Aberdeen, SD</td>\n      <td>South Dakota</td>\n      <td>73</td>\n      <td>84</td>\n      <td>61</td>\n      <td>11</td>\n      <td>7.27</td>\n    </tr>\n    <tr>\n      <th>4664</th>\n      <td>0.09</td>\n      <td>2016-04-10</td>\n      <td>4</td>\n      <td>10</td>\n      <td>2016</td>\n      <td>Aberdeen</td>\n      <td>ABR</td>\n      <td>Aberdeen, SD</td>\n      <td>South Dakota</td>\n      <td>38</td>\n      <td>52</td>\n      <td>24</td>\n      <td>25</td>\n      <td>12.88</td>\n    </tr>\n    <tr>\n      <th>...</th>\n      <td>...</td>\n      <td>...</td>\n      <td>...</td>\n      <td>...</td>\n      <td>...</td>\n      <td>...</td>\n      <td>...</td>\n      <td>...</td>\n      <td>...</td>\n      <td>...</td>\n      <td>...</td>\n      <td>...</td>\n      <td>...</td>\n      <td>...</td>\n    </tr>\n    <tr>\n      <th>3060</th>\n      <td>0.56</td>\n      <td>2016-03-06</td>\n      <td>3</td>\n      <td>6</td>\n      <td>2016</td>\n      <td>Youngstown/Warren</td>\n      <td>YNG</td>\n      <td>Youngstown/Warren, OH</td>\n      <td>Ohio</td>\n      <td>31</td>\n      <td>38</td>\n      <td>21</td>\n      <td>21</td>\n      <td>4.85</td>\n    </tr>\n    <tr>\n      <th>7487</th>\n      <td>0.67</td>\n      <td>2016-06-12</td>\n      <td>6</td>\n      <td>12</td>\n      <td>2016</td>\n      <td>Youngstown/Warren</td>\n      <td>YNG</td>\n      <td>Youngstown/Warren, OH</td>\n      <td>Ohio</td>\n      <td>64</td>\n      <td>75</td>\n      <td>53</td>\n      <td>26</td>\n      <td>8.07</td>\n    </tr>\n    <tr>\n      <th>4954</th>\n      <td>0.89</td>\n      <td>2016-04-17</td>\n      <td>4</td>\n      <td>17</td>\n      <td>2016</td>\n      <td>Youngstown/Warren</td>\n      <td>YNG</td>\n      <td>Youngstown/Warren, OH</td>\n      <td>Ohio</td>\n      <td>49</td>\n      <td>63</td>\n      <td>35</td>\n      <td>11</td>\n      <td>6.37</td>\n    </tr>\n    <tr>\n      <th>10957</th>\n      <td>0.58</td>\n      <td>2016-08-28</td>\n      <td>8</td>\n      <td>28</td>\n      <td>2016</td>\n      <td>Youngstown/Warren</td>\n      <td>YNG</td>\n      <td>Youngstown/Warren, OH</td>\n      <td>Ohio</td>\n      <td>73</td>\n      <td>84</td>\n      <td>60</td>\n      <td>15</td>\n      <td>3.90</td>\n    </tr>\n    <tr>\n      <th>12222</th>\n      <td>0.00</td>\n      <td>2016-09-25</td>\n      <td>9</td>\n      <td>25</td>\n      <td>2016</td>\n      <td>Youngstown/Warren</td>\n      <td>YNG</td>\n      <td>Youngstown/Warren, OH</td>\n      <td>Ohio</td>\n      <td>68</td>\n      <td>80</td>\n      <td>55</td>\n      <td>15</td>\n      <td>3.62</td>\n    </tr>\n  </tbody>\n</table>\n<p>16743 rows × 14 columns</p>\n</div>"
     },
     "metadata": {},
     "execution_count": 4
    }
   ],
   "source": [
    "weather.sort_values(['Station.Location'])"
   ]
  },
  {
   "cell_type": "code",
   "execution_count": 5,
   "metadata": {
    "tags": []
   },
   "outputs": [
    {
     "output_type": "stream",
     "name": "stdout",
     "text": [
      "0        Birmingham, AL\n1        Huntsville, AL\n2            Mobile, AL\n3        Montgomery, AL\n4         Anchorage, AK\n              ...      \n16738        Casper, WY\n16739      Cheyenne, WY\n16740        Lander, WY\n16741       Rawlins, WY\n16742      Sheridan, WY\nName: Station.Location, Length: 16743, dtype: object\n"
     ]
    }
   ],
   "source": [
    "list_stations = weather['Station.Location']\n",
    "print(list_stations)"
   ]
  },
  {
   "cell_type": "code",
   "execution_count": 6,
   "metadata": {},
   "outputs": [
    {
     "output_type": "execute_result",
     "data": {
      "text/plain": [
       "3086              Aberdeen, SD\n",
       "6564              Aberdeen, SD\n",
       "8459              Aberdeen, SD\n",
       "9716              Aberdeen, SD\n",
       "4664              Aberdeen, SD\n",
       "                 ...          \n",
       "3060     Youngstown/Warren, OH\n",
       "7487     Youngstown/Warren, OH\n",
       "4954     Youngstown/Warren, OH\n",
       "10957    Youngstown/Warren, OH\n",
       "12222    Youngstown/Warren, OH\n",
       "Name: Station.Location, Length: 16743, dtype: object"
      ]
     },
     "metadata": {},
     "execution_count": 6
    }
   ],
   "source": [
    "list_stations.sort_values(0)"
   ]
  },
  {
   "cell_type": "code",
   "execution_count": 7,
   "metadata": {},
   "outputs": [
    {
     "output_type": "execute_result",
     "data": {
      "text/plain": [
       "3086              Aberdeen, SD\n",
       "13212              Abilene, TX\n",
       "847                  Akron, OH\n",
       "13012              Alamosa, CO\n",
       "10297               Albany, NY\n",
       "                 ...          \n",
       "3604             Worcester, MA\n",
       "6982              Wrangell, AK\n",
       "301                 Yakima, WA\n",
       "9188               Yakutat, AK\n",
       "6855     Youngstown/Warren, OH\n",
       "Name: Station.Location, Length: 318, dtype: object"
      ]
     },
     "metadata": {},
     "execution_count": 7
    }
   ],
   "source": [
    "sorted_list_stations = list_stations.sort_values(0)\n",
    "sorted_list_stations.drop_duplicates()"
   ]
  },
  {
   "source": [
    "Finding of mean temperatures in each state"
   ],
   "cell_type": "markdown",
   "metadata": {}
  },
  {
   "cell_type": "code",
   "execution_count": 8,
   "metadata": {},
   "outputs": [
    {
     "output_type": "execute_result",
     "data": {
      "text/plain": [
       "                Data.Precipitation  Date.Month  Date.Week of    Date.Year  \\\n",
       "Station.State                                                               \n",
       "Alabama                   0.776179    6.339623     15.660377  2016.018868   \n",
       "Alaska                    0.566126    6.392670     15.603839  2016.019779   \n",
       "Arizona                   0.162566    6.339623     15.660377  2016.018868   \n",
       "Arkansas                  0.603711    6.339623     15.660377  2016.018868   \n",
       "California                0.323774    6.308308     15.666667  2016.018018   \n",
       "Colorado                  0.182987    6.339623     15.660377  2016.018868   \n",
       "Connecticut               0.587830    6.339623     15.660377  2016.018868   \n",
       "DE                        0.632453    6.339623     15.660377  2016.018868   \n",
       "Delaware                  0.632453    6.339623     15.660377  2016.018868   \n",
       "Florida                   0.891006    6.339623     15.660377  2016.018868   \n",
       "Georgia                   0.712799    6.339623     15.660377  2016.018868   \n",
       "Hawaii                    0.664868    6.339623     15.660377  2016.018868   \n",
       "Idaho                     0.238113    6.339623     15.660377  2016.018868   \n",
       "Illinois                  0.609182    6.339623     15.660377  2016.018868   \n",
       "Indiana                   0.790142    6.339623     15.660377  2016.018868   \n",
       "Iowa                      0.659208    6.339623     15.660377  2016.018868   \n",
       "Kansas                    0.547673    6.339623     15.660377  2016.018868   \n",
       "Kentucky                  0.777660    6.339623     15.660377  2016.018868   \n",
       "Louisiana                 1.252452    6.329502     15.586207  2016.019157   \n",
       "Maine                     0.681698    6.339623     15.660377  2016.018868   \n",
       "Maryland                  0.697170    6.339623     15.660377  2016.018868   \n",
       "Massachusetts             0.462222    6.294118     15.549020  2016.019608   \n",
       "Michigan                  0.587925    6.339623     15.660377  2016.018868   \n",
       "Minnesota                 0.599811    6.339623     15.660377  2016.018868   \n",
       "Mississippi               0.885202    6.339623     15.660377  2016.018868   \n",
       "Missouri                  0.712318    6.339623     15.660377  2016.018868   \n",
       "Montana                   0.254768    6.339623     15.660377  2016.018868   \n",
       "Nebraska                  0.403986    6.339623     15.660377  2016.018868   \n",
       "Nevada                    0.133208    6.339623     15.660377  2016.018868   \n",
       "New Hampshire             0.479000    6.450000     15.430000  2016.020000   \n",
       "New Jersey                0.659717    6.339623     15.660377  2016.018868   \n",
       "New Mexico                0.223019    6.339623     15.660377  2016.018868   \n",
       "New York                  0.597689    6.339623     15.660377  2016.018868   \n",
       "North Carolina            0.794528    6.339623     15.660377  2016.018868   \n",
       "North Dakota              0.341887    6.339623     15.660377  2016.018868   \n",
       "Ohio                      0.612372    6.339623     15.660377  2016.018868   \n",
       "Oklahoma                  0.442311    6.339623     15.660377  2016.018868   \n",
       "Oregon                    0.627217    6.339623     15.660377  2016.018868   \n",
       "Pennsylvania              0.594771    6.339623     15.660377  2016.018868   \n",
       "Puerto Rico               1.238113    6.339623     15.660377  2016.018868   \n",
       "Rhode Island              0.661887    6.339623     15.660377  2016.018868   \n",
       "South Carolina            0.687500    6.339623     15.660377  2016.018868   \n",
       "South Dakota              0.344604    6.339623     15.660377  2016.018868   \n",
       "Tennessee                 0.742476    6.333333     15.614286  2016.019048   \n",
       "Texas                     0.621973    6.339623     15.660377  2016.018868   \n",
       "Utah                      0.247925    6.339623     15.660377  2016.018868   \n",
       "VA                        0.760566    6.339623     15.660377  2016.018868   \n",
       "Vermont                   0.481321    6.339623     15.660377  2016.018868   \n",
       "Virginia                  0.810283    6.339623     15.660377  2016.018868   \n",
       "Washington                0.758356    6.339623     15.660377  2016.018868   \n",
       "West Virginia             0.738019    6.339623     15.660377  2016.018868   \n",
       "Wisconsin                 0.638491    6.339623     15.660377  2016.018868   \n",
       "Wyoming                   0.226491    6.339623     15.660377  2016.018868   \n",
       "\n",
       "                Data.Temperature.Avg Temp  Data.Temperature.Max Temp  \\\n",
       "Station.State                                                          \n",
       "Alabama                         66.528302                  77.226415   \n",
       "Alaska                          41.157650                  47.085515   \n",
       "Arizona                         66.286792                  81.007547   \n",
       "Arkansas                        62.308176                  72.345912   \n",
       "California                      62.363363                  73.029029   \n",
       "Colorado                        49.273585                  64.591195   \n",
       "Connecticut                     53.396226                  62.367925   \n",
       "DE                              56.056604                  65.264151   \n",
       "Delaware                        56.056604                  65.264151   \n",
       "Florida                         73.926101                  82.215409   \n",
       "Georgia                         66.220126                  77.437107   \n",
       "Hawaii                          76.384906                  82.954717   \n",
       "Idaho                           51.698113                  63.352201   \n",
       "Illinois                        53.377358                  62.270440   \n",
       "Indiana                         53.976415                  63.165094   \n",
       "Iowa                            50.796226                  60.162264   \n",
       "Kansas                          56.867925                  69.201258   \n",
       "Kentucky                        58.286792                  67.856604   \n",
       "Louisiana                       69.475096                  78.927203   \n",
       "Maine                           45.415094                  55.075472   \n",
       "Maryland                        56.971698                  66.462264   \n",
       "Massachusetts                   53.261438                  59.202614   \n",
       "Michigan                        48.002096                  56.867925   \n",
       "Minnesota                       44.675472                  53.724528   \n",
       "Mississippi                     66.474394                  77.336927   \n",
       "Missouri                        57.423181                  67.331536   \n",
       "Montana                         45.627787                  57.855918   \n",
       "Nebraska                        51.634434                  64.386792   \n",
       "Nevada                          55.628931                  69.877358   \n",
       "New Hampshire                   51.110000                  57.810000   \n",
       "New Jersey                      56.066038                  64.915094   \n",
       "New Mexico                      58.622642                  72.672956   \n",
       "New York                        51.040094                  59.771226   \n",
       "North Carolina                  61.770889                  71.404313   \n",
       "North Dakota                    45.166038                  56.449057   \n",
       "Ohio                            52.665768                  61.830189   \n",
       "Oklahoma                        61.716981                  73.580189   \n",
       "Oregon                          52.870283                  63.971698   \n",
       "Pennsylvania                    53.919137                  62.792453   \n",
       "Puerto Rico                     81.358491                  86.566038   \n",
       "Rhode Island                    53.037736                  62.000000   \n",
       "South Carolina                  65.188679                  75.863208   \n",
       "South Dakota                    48.415094                  60.324528   \n",
       "Tennessee                       60.802381                  71.328571   \n",
       "Texas                           68.181604                  78.849057   \n",
       "Utah                            55.698113                  66.094340   \n",
       "VA                              58.283019                  68.018868   \n",
       "Vermont                         48.773585                  57.622642   \n",
       "Virginia                        58.974843                  67.946541   \n",
       "Washington                      51.366577                  61.212938   \n",
       "West Virginia                   55.023585                  65.311321   \n",
       "Wisconsin                       49.165094                  57.575472   \n",
       "Wyoming                         46.490566                  60.018868   \n",
       "\n",
       "                Data.Temperature.Min Temp  Data.Wind.Direction  \\\n",
       "Station.State                                                    \n",
       "Alabama                         55.292453            19.202830   \n",
       "Alaska                          34.773124            15.506690   \n",
       "Arizona                         51.064151            18.271698   \n",
       "Arkansas                        51.779874            11.647799   \n",
       "California                      51.240240            22.421421   \n",
       "Colorado                        33.553459            18.201258   \n",
       "Connecticut                     43.811321            20.971698   \n",
       "DE                              46.452830            20.773585   \n",
       "Delaware                        46.452830            20.773585   \n",
       "Florida                         65.166667            15.718553   \n",
       "Georgia                         54.496855            19.330189   \n",
       "Hawaii                          69.366038            10.347170   \n",
       "Idaho                           39.672956            19.018868   \n",
       "Illinois                        43.933962            19.591195   \n",
       "Indiana                         44.301887            20.165094   \n",
       "Iowa                            40.920755            19.860377   \n",
       "Kansas                          43.987421            18.981132   \n",
       "Kentucky                        48.222642            19.901887   \n",
       "Louisiana                       59.540230            15.206897   \n",
       "Maine                           35.251572            21.823899   \n",
       "Maryland                        46.820755            19.650943   \n",
       "Massachusetts                   47.111111            20.300654   \n",
       "Michigan                        38.647799            17.911950   \n",
       "Minnesota                       35.203774            19.894340   \n",
       "Mississippi                     55.159030            18.415094   \n",
       "Missouri                        46.943396            19.431267   \n",
       "Montana                         32.962264            21.180103   \n",
       "Nebraska                        38.429245            20.780660   \n",
       "Nevada                          40.613208            18.522013   \n",
       "New Hampshire                   44.050000            23.310000   \n",
       "New Jersey                      46.584906            19.952830   \n",
       "New Mexico                      44.157233            19.962264   \n",
       "New York                        41.823113            20.518868   \n",
       "North Carolina                  51.676550            19.668464   \n",
       "North Dakota                    33.486792            20.833962   \n",
       "Ohio                            43.008086            20.113208   \n",
       "Oklahoma                        49.320755            18.014151   \n",
       "Oregon                          41.254717            21.308962   \n",
       "Pennsylvania                    44.021563            21.024259   \n",
       "Puerto Rico                     75.622642             9.056604   \n",
       "Rhode Island                    43.622642            20.471698   \n",
       "South Carolina                  54.047170            17.952830   \n",
       "South Dakota                    36.079245            21.060377   \n",
       "Tennessee                       49.776190            19.592857   \n",
       "Texas                           57.015723            15.917453   \n",
       "Utah                            44.792453            20.622642   \n",
       "VA                              48.132075            20.566038   \n",
       "Vermont                         39.452830            23.056604   \n",
       "Virginia                        49.553459            18.729560   \n",
       "Washington                      41.070081            19.229111   \n",
       "West Virginia                   44.235849            21.533019   \n",
       "Wisconsin                       40.231132            19.485849   \n",
       "Wyoming                         32.509434            23.377358   \n",
       "\n",
       "                Data.Wind.Speed  \n",
       "Station.State                    \n",
       "Alabama                4.817736  \n",
       "Alaska                 6.429959  \n",
       "Arizona                4.662075  \n",
       "Arkansas               3.298113  \n",
       "California             4.893634  \n",
       "Colorado               4.322830  \n",
       "Connecticut            6.474906  \n",
       "DE                     6.760377  \n",
       "Delaware               6.760377  \n",
       "Florida                6.299953  \n",
       "Georgia                4.682516  \n",
       "Hawaii                 8.971585  \n",
       "Idaho                  4.822453  \n",
       "Illinois               7.081761  \n",
       "Indiana                6.836934  \n",
       "Iowa                   8.008679  \n",
       "Kansas                 8.249497  \n",
       "Kentucky               5.003283  \n",
       "Louisiana              5.115709  \n",
       "Maine                  5.913648  \n",
       "Maryland               5.627547  \n",
       "Massachusetts          8.746993  \n",
       "Michigan               5.966897  \n",
       "Minnesota              7.512604  \n",
       "Mississippi            4.747062  \n",
       "Missouri               7.061024  \n",
       "Montana                6.455180  \n",
       "Nebraska               8.054528  \n",
       "Nevada                 5.224465  \n",
       "New Hampshire         18.017900  \n",
       "New Jersey             7.191604  \n",
       "New Mexico             6.353585  \n",
       "New York               6.929929  \n",
       "North Carolina         5.236954  \n",
       "North Dakota           8.457208  \n",
       "Ohio                   7.212156  \n",
       "Oklahoma               8.456792  \n",
       "Oregon                 4.863160  \n",
       "Pennsylvania           5.855526  \n",
       "Puerto Rico            6.718868  \n",
       "Rhode Island           7.056981  \n",
       "South Carolina         4.973208  \n",
       "South Dakota           8.469660  \n",
       "Tennessee              4.082381  \n",
       "Texas                  7.726423  \n",
       "Utah                   4.626792  \n",
       "VA                     5.078113  \n",
       "Vermont                6.174151  \n",
       "Virginia               5.883648  \n",
       "Washington             4.930782  \n",
       "West Virginia          4.146698  \n",
       "Wisconsin              6.741368  \n",
       "Wyoming                7.461283  "
      ],
      "text/html": "<div>\n<style scoped>\n    .dataframe tbody tr th:only-of-type {\n        vertical-align: middle;\n    }\n\n    .dataframe tbody tr th {\n        vertical-align: top;\n    }\n\n    .dataframe thead th {\n        text-align: right;\n    }\n</style>\n<table border=\"1\" class=\"dataframe\">\n  <thead>\n    <tr style=\"text-align: right;\">\n      <th></th>\n      <th>Data.Precipitation</th>\n      <th>Date.Month</th>\n      <th>Date.Week of</th>\n      <th>Date.Year</th>\n      <th>Data.Temperature.Avg Temp</th>\n      <th>Data.Temperature.Max Temp</th>\n      <th>Data.Temperature.Min Temp</th>\n      <th>Data.Wind.Direction</th>\n      <th>Data.Wind.Speed</th>\n    </tr>\n    <tr>\n      <th>Station.State</th>\n      <th></th>\n      <th></th>\n      <th></th>\n      <th></th>\n      <th></th>\n      <th></th>\n      <th></th>\n      <th></th>\n      <th></th>\n    </tr>\n  </thead>\n  <tbody>\n    <tr>\n      <th>Alabama</th>\n      <td>0.776179</td>\n      <td>6.339623</td>\n      <td>15.660377</td>\n      <td>2016.018868</td>\n      <td>66.528302</td>\n      <td>77.226415</td>\n      <td>55.292453</td>\n      <td>19.202830</td>\n      <td>4.817736</td>\n    </tr>\n    <tr>\n      <th>Alaska</th>\n      <td>0.566126</td>\n      <td>6.392670</td>\n      <td>15.603839</td>\n      <td>2016.019779</td>\n      <td>41.157650</td>\n      <td>47.085515</td>\n      <td>34.773124</td>\n      <td>15.506690</td>\n      <td>6.429959</td>\n    </tr>\n    <tr>\n      <th>Arizona</th>\n      <td>0.162566</td>\n      <td>6.339623</td>\n      <td>15.660377</td>\n      <td>2016.018868</td>\n      <td>66.286792</td>\n      <td>81.007547</td>\n      <td>51.064151</td>\n      <td>18.271698</td>\n      <td>4.662075</td>\n    </tr>\n    <tr>\n      <th>Arkansas</th>\n      <td>0.603711</td>\n      <td>6.339623</td>\n      <td>15.660377</td>\n      <td>2016.018868</td>\n      <td>62.308176</td>\n      <td>72.345912</td>\n      <td>51.779874</td>\n      <td>11.647799</td>\n      <td>3.298113</td>\n    </tr>\n    <tr>\n      <th>California</th>\n      <td>0.323774</td>\n      <td>6.308308</td>\n      <td>15.666667</td>\n      <td>2016.018018</td>\n      <td>62.363363</td>\n      <td>73.029029</td>\n      <td>51.240240</td>\n      <td>22.421421</td>\n      <td>4.893634</td>\n    </tr>\n    <tr>\n      <th>Colorado</th>\n      <td>0.182987</td>\n      <td>6.339623</td>\n      <td>15.660377</td>\n      <td>2016.018868</td>\n      <td>49.273585</td>\n      <td>64.591195</td>\n      <td>33.553459</td>\n      <td>18.201258</td>\n      <td>4.322830</td>\n    </tr>\n    <tr>\n      <th>Connecticut</th>\n      <td>0.587830</td>\n      <td>6.339623</td>\n      <td>15.660377</td>\n      <td>2016.018868</td>\n      <td>53.396226</td>\n      <td>62.367925</td>\n      <td>43.811321</td>\n      <td>20.971698</td>\n      <td>6.474906</td>\n    </tr>\n    <tr>\n      <th>DE</th>\n      <td>0.632453</td>\n      <td>6.339623</td>\n      <td>15.660377</td>\n      <td>2016.018868</td>\n      <td>56.056604</td>\n      <td>65.264151</td>\n      <td>46.452830</td>\n      <td>20.773585</td>\n      <td>6.760377</td>\n    </tr>\n    <tr>\n      <th>Delaware</th>\n      <td>0.632453</td>\n      <td>6.339623</td>\n      <td>15.660377</td>\n      <td>2016.018868</td>\n      <td>56.056604</td>\n      <td>65.264151</td>\n      <td>46.452830</td>\n      <td>20.773585</td>\n      <td>6.760377</td>\n    </tr>\n    <tr>\n      <th>Florida</th>\n      <td>0.891006</td>\n      <td>6.339623</td>\n      <td>15.660377</td>\n      <td>2016.018868</td>\n      <td>73.926101</td>\n      <td>82.215409</td>\n      <td>65.166667</td>\n      <td>15.718553</td>\n      <td>6.299953</td>\n    </tr>\n    <tr>\n      <th>Georgia</th>\n      <td>0.712799</td>\n      <td>6.339623</td>\n      <td>15.660377</td>\n      <td>2016.018868</td>\n      <td>66.220126</td>\n      <td>77.437107</td>\n      <td>54.496855</td>\n      <td>19.330189</td>\n      <td>4.682516</td>\n    </tr>\n    <tr>\n      <th>Hawaii</th>\n      <td>0.664868</td>\n      <td>6.339623</td>\n      <td>15.660377</td>\n      <td>2016.018868</td>\n      <td>76.384906</td>\n      <td>82.954717</td>\n      <td>69.366038</td>\n      <td>10.347170</td>\n      <td>8.971585</td>\n    </tr>\n    <tr>\n      <th>Idaho</th>\n      <td>0.238113</td>\n      <td>6.339623</td>\n      <td>15.660377</td>\n      <td>2016.018868</td>\n      <td>51.698113</td>\n      <td>63.352201</td>\n      <td>39.672956</td>\n      <td>19.018868</td>\n      <td>4.822453</td>\n    </tr>\n    <tr>\n      <th>Illinois</th>\n      <td>0.609182</td>\n      <td>6.339623</td>\n      <td>15.660377</td>\n      <td>2016.018868</td>\n      <td>53.377358</td>\n      <td>62.270440</td>\n      <td>43.933962</td>\n      <td>19.591195</td>\n      <td>7.081761</td>\n    </tr>\n    <tr>\n      <th>Indiana</th>\n      <td>0.790142</td>\n      <td>6.339623</td>\n      <td>15.660377</td>\n      <td>2016.018868</td>\n      <td>53.976415</td>\n      <td>63.165094</td>\n      <td>44.301887</td>\n      <td>20.165094</td>\n      <td>6.836934</td>\n    </tr>\n    <tr>\n      <th>Iowa</th>\n      <td>0.659208</td>\n      <td>6.339623</td>\n      <td>15.660377</td>\n      <td>2016.018868</td>\n      <td>50.796226</td>\n      <td>60.162264</td>\n      <td>40.920755</td>\n      <td>19.860377</td>\n      <td>8.008679</td>\n    </tr>\n    <tr>\n      <th>Kansas</th>\n      <td>0.547673</td>\n      <td>6.339623</td>\n      <td>15.660377</td>\n      <td>2016.018868</td>\n      <td>56.867925</td>\n      <td>69.201258</td>\n      <td>43.987421</td>\n      <td>18.981132</td>\n      <td>8.249497</td>\n    </tr>\n    <tr>\n      <th>Kentucky</th>\n      <td>0.777660</td>\n      <td>6.339623</td>\n      <td>15.660377</td>\n      <td>2016.018868</td>\n      <td>58.286792</td>\n      <td>67.856604</td>\n      <td>48.222642</td>\n      <td>19.901887</td>\n      <td>5.003283</td>\n    </tr>\n    <tr>\n      <th>Louisiana</th>\n      <td>1.252452</td>\n      <td>6.329502</td>\n      <td>15.586207</td>\n      <td>2016.019157</td>\n      <td>69.475096</td>\n      <td>78.927203</td>\n      <td>59.540230</td>\n      <td>15.206897</td>\n      <td>5.115709</td>\n    </tr>\n    <tr>\n      <th>Maine</th>\n      <td>0.681698</td>\n      <td>6.339623</td>\n      <td>15.660377</td>\n      <td>2016.018868</td>\n      <td>45.415094</td>\n      <td>55.075472</td>\n      <td>35.251572</td>\n      <td>21.823899</td>\n      <td>5.913648</td>\n    </tr>\n    <tr>\n      <th>Maryland</th>\n      <td>0.697170</td>\n      <td>6.339623</td>\n      <td>15.660377</td>\n      <td>2016.018868</td>\n      <td>56.971698</td>\n      <td>66.462264</td>\n      <td>46.820755</td>\n      <td>19.650943</td>\n      <td>5.627547</td>\n    </tr>\n    <tr>\n      <th>Massachusetts</th>\n      <td>0.462222</td>\n      <td>6.294118</td>\n      <td>15.549020</td>\n      <td>2016.019608</td>\n      <td>53.261438</td>\n      <td>59.202614</td>\n      <td>47.111111</td>\n      <td>20.300654</td>\n      <td>8.746993</td>\n    </tr>\n    <tr>\n      <th>Michigan</th>\n      <td>0.587925</td>\n      <td>6.339623</td>\n      <td>15.660377</td>\n      <td>2016.018868</td>\n      <td>48.002096</td>\n      <td>56.867925</td>\n      <td>38.647799</td>\n      <td>17.911950</td>\n      <td>5.966897</td>\n    </tr>\n    <tr>\n      <th>Minnesota</th>\n      <td>0.599811</td>\n      <td>6.339623</td>\n      <td>15.660377</td>\n      <td>2016.018868</td>\n      <td>44.675472</td>\n      <td>53.724528</td>\n      <td>35.203774</td>\n      <td>19.894340</td>\n      <td>7.512604</td>\n    </tr>\n    <tr>\n      <th>Mississippi</th>\n      <td>0.885202</td>\n      <td>6.339623</td>\n      <td>15.660377</td>\n      <td>2016.018868</td>\n      <td>66.474394</td>\n      <td>77.336927</td>\n      <td>55.159030</td>\n      <td>18.415094</td>\n      <td>4.747062</td>\n    </tr>\n    <tr>\n      <th>Missouri</th>\n      <td>0.712318</td>\n      <td>6.339623</td>\n      <td>15.660377</td>\n      <td>2016.018868</td>\n      <td>57.423181</td>\n      <td>67.331536</td>\n      <td>46.943396</td>\n      <td>19.431267</td>\n      <td>7.061024</td>\n    </tr>\n    <tr>\n      <th>Montana</th>\n      <td>0.254768</td>\n      <td>6.339623</td>\n      <td>15.660377</td>\n      <td>2016.018868</td>\n      <td>45.627787</td>\n      <td>57.855918</td>\n      <td>32.962264</td>\n      <td>21.180103</td>\n      <td>6.455180</td>\n    </tr>\n    <tr>\n      <th>Nebraska</th>\n      <td>0.403986</td>\n      <td>6.339623</td>\n      <td>15.660377</td>\n      <td>2016.018868</td>\n      <td>51.634434</td>\n      <td>64.386792</td>\n      <td>38.429245</td>\n      <td>20.780660</td>\n      <td>8.054528</td>\n    </tr>\n    <tr>\n      <th>Nevada</th>\n      <td>0.133208</td>\n      <td>6.339623</td>\n      <td>15.660377</td>\n      <td>2016.018868</td>\n      <td>55.628931</td>\n      <td>69.877358</td>\n      <td>40.613208</td>\n      <td>18.522013</td>\n      <td>5.224465</td>\n    </tr>\n    <tr>\n      <th>New Hampshire</th>\n      <td>0.479000</td>\n      <td>6.450000</td>\n      <td>15.430000</td>\n      <td>2016.020000</td>\n      <td>51.110000</td>\n      <td>57.810000</td>\n      <td>44.050000</td>\n      <td>23.310000</td>\n      <td>18.017900</td>\n    </tr>\n    <tr>\n      <th>New Jersey</th>\n      <td>0.659717</td>\n      <td>6.339623</td>\n      <td>15.660377</td>\n      <td>2016.018868</td>\n      <td>56.066038</td>\n      <td>64.915094</td>\n      <td>46.584906</td>\n      <td>19.952830</td>\n      <td>7.191604</td>\n    </tr>\n    <tr>\n      <th>New Mexico</th>\n      <td>0.223019</td>\n      <td>6.339623</td>\n      <td>15.660377</td>\n      <td>2016.018868</td>\n      <td>58.622642</td>\n      <td>72.672956</td>\n      <td>44.157233</td>\n      <td>19.962264</td>\n      <td>6.353585</td>\n    </tr>\n    <tr>\n      <th>New York</th>\n      <td>0.597689</td>\n      <td>6.339623</td>\n      <td>15.660377</td>\n      <td>2016.018868</td>\n      <td>51.040094</td>\n      <td>59.771226</td>\n      <td>41.823113</td>\n      <td>20.518868</td>\n      <td>6.929929</td>\n    </tr>\n    <tr>\n      <th>North Carolina</th>\n      <td>0.794528</td>\n      <td>6.339623</td>\n      <td>15.660377</td>\n      <td>2016.018868</td>\n      <td>61.770889</td>\n      <td>71.404313</td>\n      <td>51.676550</td>\n      <td>19.668464</td>\n      <td>5.236954</td>\n    </tr>\n    <tr>\n      <th>North Dakota</th>\n      <td>0.341887</td>\n      <td>6.339623</td>\n      <td>15.660377</td>\n      <td>2016.018868</td>\n      <td>45.166038</td>\n      <td>56.449057</td>\n      <td>33.486792</td>\n      <td>20.833962</td>\n      <td>8.457208</td>\n    </tr>\n    <tr>\n      <th>Ohio</th>\n      <td>0.612372</td>\n      <td>6.339623</td>\n      <td>15.660377</td>\n      <td>2016.018868</td>\n      <td>52.665768</td>\n      <td>61.830189</td>\n      <td>43.008086</td>\n      <td>20.113208</td>\n      <td>7.212156</td>\n    </tr>\n    <tr>\n      <th>Oklahoma</th>\n      <td>0.442311</td>\n      <td>6.339623</td>\n      <td>15.660377</td>\n      <td>2016.018868</td>\n      <td>61.716981</td>\n      <td>73.580189</td>\n      <td>49.320755</td>\n      <td>18.014151</td>\n      <td>8.456792</td>\n    </tr>\n    <tr>\n      <th>Oregon</th>\n      <td>0.627217</td>\n      <td>6.339623</td>\n      <td>15.660377</td>\n      <td>2016.018868</td>\n      <td>52.870283</td>\n      <td>63.971698</td>\n      <td>41.254717</td>\n      <td>21.308962</td>\n      <td>4.863160</td>\n    </tr>\n    <tr>\n      <th>Pennsylvania</th>\n      <td>0.594771</td>\n      <td>6.339623</td>\n      <td>15.660377</td>\n      <td>2016.018868</td>\n      <td>53.919137</td>\n      <td>62.792453</td>\n      <td>44.021563</td>\n      <td>21.024259</td>\n      <td>5.855526</td>\n    </tr>\n    <tr>\n      <th>Puerto Rico</th>\n      <td>1.238113</td>\n      <td>6.339623</td>\n      <td>15.660377</td>\n      <td>2016.018868</td>\n      <td>81.358491</td>\n      <td>86.566038</td>\n      <td>75.622642</td>\n      <td>9.056604</td>\n      <td>6.718868</td>\n    </tr>\n    <tr>\n      <th>Rhode Island</th>\n      <td>0.661887</td>\n      <td>6.339623</td>\n      <td>15.660377</td>\n      <td>2016.018868</td>\n      <td>53.037736</td>\n      <td>62.000000</td>\n      <td>43.622642</td>\n      <td>20.471698</td>\n      <td>7.056981</td>\n    </tr>\n    <tr>\n      <th>South Carolina</th>\n      <td>0.687500</td>\n      <td>6.339623</td>\n      <td>15.660377</td>\n      <td>2016.018868</td>\n      <td>65.188679</td>\n      <td>75.863208</td>\n      <td>54.047170</td>\n      <td>17.952830</td>\n      <td>4.973208</td>\n    </tr>\n    <tr>\n      <th>South Dakota</th>\n      <td>0.344604</td>\n      <td>6.339623</td>\n      <td>15.660377</td>\n      <td>2016.018868</td>\n      <td>48.415094</td>\n      <td>60.324528</td>\n      <td>36.079245</td>\n      <td>21.060377</td>\n      <td>8.469660</td>\n    </tr>\n    <tr>\n      <th>Tennessee</th>\n      <td>0.742476</td>\n      <td>6.333333</td>\n      <td>15.614286</td>\n      <td>2016.019048</td>\n      <td>60.802381</td>\n      <td>71.328571</td>\n      <td>49.776190</td>\n      <td>19.592857</td>\n      <td>4.082381</td>\n    </tr>\n    <tr>\n      <th>Texas</th>\n      <td>0.621973</td>\n      <td>6.339623</td>\n      <td>15.660377</td>\n      <td>2016.018868</td>\n      <td>68.181604</td>\n      <td>78.849057</td>\n      <td>57.015723</td>\n      <td>15.917453</td>\n      <td>7.726423</td>\n    </tr>\n    <tr>\n      <th>Utah</th>\n      <td>0.247925</td>\n      <td>6.339623</td>\n      <td>15.660377</td>\n      <td>2016.018868</td>\n      <td>55.698113</td>\n      <td>66.094340</td>\n      <td>44.792453</td>\n      <td>20.622642</td>\n      <td>4.626792</td>\n    </tr>\n    <tr>\n      <th>VA</th>\n      <td>0.760566</td>\n      <td>6.339623</td>\n      <td>15.660377</td>\n      <td>2016.018868</td>\n      <td>58.283019</td>\n      <td>68.018868</td>\n      <td>48.132075</td>\n      <td>20.566038</td>\n      <td>5.078113</td>\n    </tr>\n    <tr>\n      <th>Vermont</th>\n      <td>0.481321</td>\n      <td>6.339623</td>\n      <td>15.660377</td>\n      <td>2016.018868</td>\n      <td>48.773585</td>\n      <td>57.622642</td>\n      <td>39.452830</td>\n      <td>23.056604</td>\n      <td>6.174151</td>\n    </tr>\n    <tr>\n      <th>Virginia</th>\n      <td>0.810283</td>\n      <td>6.339623</td>\n      <td>15.660377</td>\n      <td>2016.018868</td>\n      <td>58.974843</td>\n      <td>67.946541</td>\n      <td>49.553459</td>\n      <td>18.729560</td>\n      <td>5.883648</td>\n    </tr>\n    <tr>\n      <th>Washington</th>\n      <td>0.758356</td>\n      <td>6.339623</td>\n      <td>15.660377</td>\n      <td>2016.018868</td>\n      <td>51.366577</td>\n      <td>61.212938</td>\n      <td>41.070081</td>\n      <td>19.229111</td>\n      <td>4.930782</td>\n    </tr>\n    <tr>\n      <th>West Virginia</th>\n      <td>0.738019</td>\n      <td>6.339623</td>\n      <td>15.660377</td>\n      <td>2016.018868</td>\n      <td>55.023585</td>\n      <td>65.311321</td>\n      <td>44.235849</td>\n      <td>21.533019</td>\n      <td>4.146698</td>\n    </tr>\n    <tr>\n      <th>Wisconsin</th>\n      <td>0.638491</td>\n      <td>6.339623</td>\n      <td>15.660377</td>\n      <td>2016.018868</td>\n      <td>49.165094</td>\n      <td>57.575472</td>\n      <td>40.231132</td>\n      <td>19.485849</td>\n      <td>6.741368</td>\n    </tr>\n    <tr>\n      <th>Wyoming</th>\n      <td>0.226491</td>\n      <td>6.339623</td>\n      <td>15.660377</td>\n      <td>2016.018868</td>\n      <td>46.490566</td>\n      <td>60.018868</td>\n      <td>32.509434</td>\n      <td>23.377358</td>\n      <td>7.461283</td>\n    </tr>\n  </tbody>\n</table>\n</div>"
     },
     "metadata": {},
     "execution_count": 8
    }
   ],
   "source": [
    "weather.groupby(['Station.State']).mean()"
   ]
  },
  {
   "cell_type": "code",
   "execution_count": 9,
   "metadata": {},
   "outputs": [
    {
     "output_type": "execute_result",
     "data": {
      "text/plain": [
       "Station.State\n",
       "Alabama           66.528302\n",
       "Alaska            41.157650\n",
       "Arizona           66.286792\n",
       "Arkansas          62.308176\n",
       "California        62.363363\n",
       "Colorado          49.273585\n",
       "Connecticut       53.396226\n",
       "DE                56.056604\n",
       "Delaware          56.056604\n",
       "Florida           73.926101\n",
       "Georgia           66.220126\n",
       "Hawaii            76.384906\n",
       "Idaho             51.698113\n",
       "Illinois          53.377358\n",
       "Indiana           53.976415\n",
       "Iowa              50.796226\n",
       "Kansas            56.867925\n",
       "Kentucky          58.286792\n",
       "Louisiana         69.475096\n",
       "Maine             45.415094\n",
       "Maryland          56.971698\n",
       "Massachusetts     53.261438\n",
       "Michigan          48.002096\n",
       "Minnesota         44.675472\n",
       "Mississippi       66.474394\n",
       "Missouri          57.423181\n",
       "Montana           45.627787\n",
       "Nebraska          51.634434\n",
       "Nevada            55.628931\n",
       "New Hampshire     51.110000\n",
       "New Jersey        56.066038\n",
       "New Mexico        58.622642\n",
       "New York          51.040094\n",
       "North Carolina    61.770889\n",
       "North Dakota      45.166038\n",
       "Ohio              52.665768\n",
       "Oklahoma          61.716981\n",
       "Oregon            52.870283\n",
       "Pennsylvania      53.919137\n",
       "Puerto Rico       81.358491\n",
       "Rhode Island      53.037736\n",
       "South Carolina    65.188679\n",
       "South Dakota      48.415094\n",
       "Tennessee         60.802381\n",
       "Texas             68.181604\n",
       "Utah              55.698113\n",
       "VA                58.283019\n",
       "Vermont           48.773585\n",
       "Virginia          58.974843\n",
       "Washington        51.366577\n",
       "West Virginia     55.023585\n",
       "Wisconsin         49.165094\n",
       "Wyoming           46.490566\n",
       "Name: Data.Temperature.Avg Temp, dtype: float64"
      ]
     },
     "metadata": {},
     "execution_count": 9
    }
   ],
   "source": [
    "weather.groupby(['Station.State']).mean()['Data.Temperature.Avg Temp']"
   ]
  },
  {
   "cell_type": "code",
   "execution_count": 10,
   "metadata": {},
   "outputs": [
    {
     "output_type": "execute_result",
     "data": {
      "text/plain": [
       "Station.State\n",
       "Alabama           66.5\n",
       "Alaska            41.2\n",
       "Arizona           66.3\n",
       "Arkansas          62.3\n",
       "California        62.4\n",
       "Colorado          49.3\n",
       "Connecticut       53.4\n",
       "DE                56.1\n",
       "Delaware          56.1\n",
       "Florida           73.9\n",
       "Georgia           66.2\n",
       "Hawaii            76.4\n",
       "Idaho             51.7\n",
       "Illinois          53.4\n",
       "Indiana           54.0\n",
       "Iowa              50.8\n",
       "Kansas            56.9\n",
       "Kentucky          58.3\n",
       "Louisiana         69.5\n",
       "Maine             45.4\n",
       "Maryland          57.0\n",
       "Massachusetts     53.3\n",
       "Michigan          48.0\n",
       "Minnesota         44.7\n",
       "Mississippi       66.5\n",
       "Missouri          57.4\n",
       "Montana           45.6\n",
       "Nebraska          51.6\n",
       "Nevada            55.6\n",
       "New Hampshire     51.1\n",
       "New Jersey        56.1\n",
       "New Mexico        58.6\n",
       "New York          51.0\n",
       "North Carolina    61.8\n",
       "North Dakota      45.2\n",
       "Ohio              52.7\n",
       "Oklahoma          61.7\n",
       "Oregon            52.9\n",
       "Pennsylvania      53.9\n",
       "Puerto Rico       81.4\n",
       "Rhode Island      53.0\n",
       "South Carolina    65.2\n",
       "South Dakota      48.4\n",
       "Tennessee         60.8\n",
       "Texas             68.2\n",
       "Utah              55.7\n",
       "VA                58.3\n",
       "Vermont           48.8\n",
       "Virginia          59.0\n",
       "Washington        51.4\n",
       "West Virginia     55.0\n",
       "Wisconsin         49.2\n",
       "Wyoming           46.5\n",
       "Name: Data.Temperature.Avg Temp, dtype: float64"
      ]
     },
     "metadata": {},
     "execution_count": 10
    }
   ],
   "source": [
    "weather.groupby(['Station.State']).mean()['Data.Temperature.Avg Temp'].round(1)"
   ]
  },
  {
   "cell_type": "code",
   "execution_count": 11,
   "metadata": {},
   "outputs": [
    {
     "output_type": "execute_result",
     "data": {
      "text/plain": [
       "Station.State\n",
       "Alaska            41.2\n",
       "Minnesota         44.7\n",
       "North Dakota      45.2\n",
       "Maine             45.4\n",
       "Montana           45.6\n",
       "Wyoming           46.5\n",
       "Michigan          48.0\n",
       "South Dakota      48.4\n",
       "Vermont           48.8\n",
       "Wisconsin         49.2\n",
       "Colorado          49.3\n",
       "Iowa              50.8\n",
       "New York          51.0\n",
       "New Hampshire     51.1\n",
       "Washington        51.4\n",
       "Nebraska          51.6\n",
       "Idaho             51.7\n",
       "Ohio              52.7\n",
       "Oregon            52.9\n",
       "Rhode Island      53.0\n",
       "Massachusetts     53.3\n",
       "Connecticut       53.4\n",
       "Illinois          53.4\n",
       "Pennsylvania      53.9\n",
       "Indiana           54.0\n",
       "West Virginia     55.0\n",
       "Nevada            55.6\n",
       "Utah              55.7\n",
       "Delaware          56.1\n",
       "New Jersey        56.1\n",
       "DE                56.1\n",
       "Kansas            56.9\n",
       "Maryland          57.0\n",
       "Missouri          57.4\n",
       "Kentucky          58.3\n",
       "VA                58.3\n",
       "New Mexico        58.6\n",
       "Virginia          59.0\n",
       "Tennessee         60.8\n",
       "Oklahoma          61.7\n",
       "North Carolina    61.8\n",
       "Arkansas          62.3\n",
       "California        62.4\n",
       "South Carolina    65.2\n",
       "Georgia           66.2\n",
       "Arizona           66.3\n",
       "Alabama           66.5\n",
       "Mississippi       66.5\n",
       "Texas             68.2\n",
       "Louisiana         69.5\n",
       "Florida           73.9\n",
       "Hawaii            76.4\n",
       "Puerto Rico       81.4\n",
       "Name: Data.Temperature.Avg Temp, dtype: float64"
      ]
     },
     "metadata": {},
     "execution_count": 11
    }
   ],
   "source": [
    "temp_in_states = weather.groupby(['Station.State']).mean()['Data.Temperature.Avg Temp'].round(1)\n",
    "temp_in_states.sort_values()"
   ]
  },
  {
   "source": [
    "Change of Fahrenheit to Celsius degrees"
   ],
   "cell_type": "markdown",
   "metadata": {}
  },
  {
   "cell_type": "code",
   "execution_count": 12,
   "metadata": {},
   "outputs": [],
   "source": [
    "# conversion from Fahrenheit to Celcius degrees\n",
    "F_to_C = lambda t: (t-32)/1.8\n",
    "weather['Data.Temperature.Avg Temp'] = F_to_C(weather['Data.Temperature.Avg Temp']).round(1)\n",
    "weather['Data.Temperature.Max Temp'] = F_to_C(weather['Data.Temperature.Max Temp']).round(1)\n",
    "weather['Data.Temperature.Min Temp'] = F_to_C(weather['Data.Temperature.Min Temp']).round(1)"
   ]
  },
  {
   "cell_type": "code",
   "execution_count": 13,
   "metadata": {},
   "outputs": [
    {
     "output_type": "execute_result",
     "data": {
      "text/plain": [
       "   Data.Precipitation   Date.Full  Date.Month  Date.Week of  Date.Year  \\\n",
       "0                0.00  2016-01-03           1             3       2016   \n",
       "1                0.00  2016-01-03           1             3       2016   \n",
       "2                0.16  2016-01-03           1             3       2016   \n",
       "3                0.00  2016-01-03           1             3       2016   \n",
       "4                0.01  2016-01-03           1             3       2016   \n",
       "\n",
       "  Station.City Station.Code Station.Location Station.State  \\\n",
       "0   Birmingham          BHM   Birmingham, AL       Alabama   \n",
       "1   Huntsville          HSV   Huntsville, AL       Alabama   \n",
       "2       Mobile          MOB       Mobile, AL       Alabama   \n",
       "3   Montgomery          MGM   Montgomery, AL       Alabama   \n",
       "4    Anchorage          ANC    Anchorage, AK        Alaska   \n",
       "\n",
       "   Data.Temperature.Avg Temp  Data.Temperature.Max Temp  \\\n",
       "0                        3.9                        7.8   \n",
       "1                        3.9                        8.3   \n",
       "2                        7.8                       10.6   \n",
       "3                        7.2                       11.1   \n",
       "4                        1.1                        3.3   \n",
       "\n",
       "   Data.Temperature.Min Temp  Data.Wind.Direction  Data.Wind.Speed  \n",
       "0                        0.0                   33             4.33  \n",
       "1                       -0.6                   32             3.86  \n",
       "2                        5.0                   35             9.73  \n",
       "3                        3.3                   32             6.86  \n",
       "4                       -1.7                   19             7.80  "
      ],
      "text/html": "<div>\n<style scoped>\n    .dataframe tbody tr th:only-of-type {\n        vertical-align: middle;\n    }\n\n    .dataframe tbody tr th {\n        vertical-align: top;\n    }\n\n    .dataframe thead th {\n        text-align: right;\n    }\n</style>\n<table border=\"1\" class=\"dataframe\">\n  <thead>\n    <tr style=\"text-align: right;\">\n      <th></th>\n      <th>Data.Precipitation</th>\n      <th>Date.Full</th>\n      <th>Date.Month</th>\n      <th>Date.Week of</th>\n      <th>Date.Year</th>\n      <th>Station.City</th>\n      <th>Station.Code</th>\n      <th>Station.Location</th>\n      <th>Station.State</th>\n      <th>Data.Temperature.Avg Temp</th>\n      <th>Data.Temperature.Max Temp</th>\n      <th>Data.Temperature.Min Temp</th>\n      <th>Data.Wind.Direction</th>\n      <th>Data.Wind.Speed</th>\n    </tr>\n  </thead>\n  <tbody>\n    <tr>\n      <th>0</th>\n      <td>0.00</td>\n      <td>2016-01-03</td>\n      <td>1</td>\n      <td>3</td>\n      <td>2016</td>\n      <td>Birmingham</td>\n      <td>BHM</td>\n      <td>Birmingham, AL</td>\n      <td>Alabama</td>\n      <td>3.9</td>\n      <td>7.8</td>\n      <td>0.0</td>\n      <td>33</td>\n      <td>4.33</td>\n    </tr>\n    <tr>\n      <th>1</th>\n      <td>0.00</td>\n      <td>2016-01-03</td>\n      <td>1</td>\n      <td>3</td>\n      <td>2016</td>\n      <td>Huntsville</td>\n      <td>HSV</td>\n      <td>Huntsville, AL</td>\n      <td>Alabama</td>\n      <td>3.9</td>\n      <td>8.3</td>\n      <td>-0.6</td>\n      <td>32</td>\n      <td>3.86</td>\n    </tr>\n    <tr>\n      <th>2</th>\n      <td>0.16</td>\n      <td>2016-01-03</td>\n      <td>1</td>\n      <td>3</td>\n      <td>2016</td>\n      <td>Mobile</td>\n      <td>MOB</td>\n      <td>Mobile, AL</td>\n      <td>Alabama</td>\n      <td>7.8</td>\n      <td>10.6</td>\n      <td>5.0</td>\n      <td>35</td>\n      <td>9.73</td>\n    </tr>\n    <tr>\n      <th>3</th>\n      <td>0.00</td>\n      <td>2016-01-03</td>\n      <td>1</td>\n      <td>3</td>\n      <td>2016</td>\n      <td>Montgomery</td>\n      <td>MGM</td>\n      <td>Montgomery, AL</td>\n      <td>Alabama</td>\n      <td>7.2</td>\n      <td>11.1</td>\n      <td>3.3</td>\n      <td>32</td>\n      <td>6.86</td>\n    </tr>\n    <tr>\n      <th>4</th>\n      <td>0.01</td>\n      <td>2016-01-03</td>\n      <td>1</td>\n      <td>3</td>\n      <td>2016</td>\n      <td>Anchorage</td>\n      <td>ANC</td>\n      <td>Anchorage, AK</td>\n      <td>Alaska</td>\n      <td>1.1</td>\n      <td>3.3</td>\n      <td>-1.7</td>\n      <td>19</td>\n      <td>7.80</td>\n    </tr>\n  </tbody>\n</table>\n</div>"
     },
     "metadata": {},
     "execution_count": 13
    }
   ],
   "source": [
    "weather.head(5)"
   ]
  },
  {
   "source": [
    "Sorting by the mean Wind spead"
   ],
   "cell_type": "markdown",
   "metadata": {}
  },
  {
   "cell_type": "code",
   "execution_count": 14,
   "metadata": {},
   "outputs": [
    {
     "output_type": "execute_result",
     "data": {
      "text/plain": [
       "Station.State\n",
       "Arkansas           3.30\n",
       "Tennessee          4.08\n",
       "West Virginia      4.15\n",
       "Colorado           4.32\n",
       "Utah               4.63\n",
       "Arizona            4.66\n",
       "Georgia            4.68\n",
       "Mississippi        4.75\n",
       "Alabama            4.82\n",
       "Idaho              4.82\n",
       "Oregon             4.86\n",
       "California         4.89\n",
       "Washington         4.93\n",
       "South Carolina     4.97\n",
       "Kentucky           5.00\n",
       "VA                 5.08\n",
       "Louisiana          5.12\n",
       "Nevada             5.22\n",
       "North Carolina     5.24\n",
       "Maryland           5.63\n",
       "Pennsylvania       5.86\n",
       "Virginia           5.88\n",
       "Maine              5.91\n",
       "Michigan           5.97\n",
       "Vermont            6.17\n",
       "Florida            6.30\n",
       "New Mexico         6.35\n",
       "Alaska             6.43\n",
       "Montana            6.46\n",
       "Connecticut        6.47\n",
       "Puerto Rico        6.72\n",
       "Wisconsin          6.74\n",
       "DE                 6.76\n",
       "Delaware           6.76\n",
       "Indiana            6.84\n",
       "New York           6.93\n",
       "Rhode Island       7.06\n",
       "Missouri           7.06\n",
       "Illinois           7.08\n",
       "New Jersey         7.19\n",
       "Ohio               7.21\n",
       "Wyoming            7.46\n",
       "Minnesota          7.51\n",
       "Texas              7.73\n",
       "Iowa               8.01\n",
       "Nebraska           8.05\n",
       "Kansas             8.25\n",
       "Oklahoma           8.46\n",
       "North Dakota       8.46\n",
       "South Dakota       8.47\n",
       "Massachusetts      8.75\n",
       "Hawaii             8.97\n",
       "New Hampshire     18.02\n",
       "Name: Data.Wind.Speed, dtype: float64"
      ]
     },
     "metadata": {},
     "execution_count": 14
    }
   ],
   "source": [
    "weather.groupby(['Station.State']).mean()['Data.Wind.Speed'].sort_values(0).round(2)"
   ]
  },
  {
   "source": [
    "Minimal temepareture in Idaho?"
   ],
   "cell_type": "markdown",
   "metadata": {}
  },
  {
   "cell_type": "code",
   "execution_count": 15,
   "metadata": {},
   "outputs": [
    {
     "output_type": "execute_result",
     "data": {
      "text/plain": [
       "<pandas.core.indexing._LocIndexer at 0x1ee5c410d60>"
      ]
     },
     "metadata": {},
     "execution_count": 15
    }
   ],
   "source": [
    "# df.loc[df['column_name'] == some_value]\n",
    "weather.loc[weather['Station.State'] == 'Idaho']\n",
    "weather.loc()"
   ]
  },
  {
   "cell_type": "code",
   "execution_count": 16,
   "metadata": {},
   "outputs": [
    {
     "output_type": "execute_result",
     "data": {
      "text/plain": [
       "Data.Precipitation                    0\n",
       "Date.Full                    2016-01-03\n",
       "Date.Month                            1\n",
       "Date.Week of                          1\n",
       "Date.Year                          2016\n",
       "Station.City                      Boise\n",
       "Station.Code                        BOI\n",
       "Station.Location              Boise, ID\n",
       "Station.State                     Idaho\n",
       "Data.Temperature.Avg Temp         -13.3\n",
       "Data.Temperature.Max Temp          -6.1\n",
       "Data.Temperature.Min Temp           -20\n",
       "Data.Wind.Direction                   2\n",
       "Data.Wind.Speed                     1.2\n",
       "dtype: object"
      ]
     },
     "metadata": {},
     "execution_count": 16
    }
   ],
   "source": [
    "weather_in_Idaho = weather.loc[weather['Station.State'] == 'Idaho']\n",
    "weather_in_Idaho.min()"
   ]
  },
  {
   "cell_type": "code",
   "execution_count": 17,
   "metadata": {},
   "outputs": [
    {
     "output_type": "stream",
     "name": "stdout",
     "text": [
      "-20.0 Lewiston, ID\nMinimal temperature in Idaho reached -20.0 and was recorded in Lewiston, ID on 2016-08-14\n"
     ]
    }
   ],
   "source": [
    "# Which is the minimal temp. in Idaho?\n",
    "min_Idaho = weather_in_Idaho['Data.Temperature.Min Temp'].min()\n",
    "# In which row is value of the minimal temp. in Idaho?\n",
    "index_min_Idaho = weather_in_Idaho['Data.Temperature.Min Temp'].idxmin()\n",
    "print(min_Idaho, weather_in_Idaho.iloc[index_min_Idaho]['Station.Location'])\n",
    "print('Minimal temperature in Idaho reached', min_Idaho, 'and was recorded in', weather_in_Idaho.iloc[index_min_Idaho]['Station.Location'], 'on', weather_in_Idaho.iloc[index_min_Idaho]['Date.Full'])"
   ]
  },
  {
   "source": [
    "A row with information about the Station with the highest and the lowest wind speed"
   ],
   "cell_type": "markdown",
   "metadata": {}
  },
  {
   "cell_type": "code",
   "execution_count": 18,
   "metadata": {},
   "outputs": [
    {
     "output_type": "execute_result",
     "data": {
      "text/plain": [
       "Data.Precipitation                            0\n",
       "Date.Full                            2016-03-06\n",
       "Date.Month                                    3\n",
       "Date.Week of                                  6\n",
       "Date.Year                                  2016\n",
       "Station.City                     Mt. Washington\n",
       "Station.Code                                MWN\n",
       "Station.Location             Mt. Washington, NH\n",
       "Station.State                     New Hampshire\n",
       "Data.Temperature.Avg Temp                  15.6\n",
       "Data.Temperature.Max Temp                  15.6\n",
       "Data.Temperature.Min Temp                  15.6\n",
       "Data.Wind.Direction                          25\n",
       "Data.Wind.Speed                            61.1\n",
       "Name: 3028, dtype: object"
      ]
     },
     "metadata": {},
     "execution_count": 18
    }
   ],
   "source": [
    "index_max_wind_speed = weather['Data.Wind.Speed'].idxmax()\n",
    "weather.iloc[index_max_wind_speed]"
   ]
  },
  {
   "cell_type": "code",
   "execution_count": 19,
   "metadata": {},
   "outputs": [
    {
     "output_type": "execute_result",
     "data": {
      "text/plain": [
       "Data.Precipitation                           0\n",
       "Date.Full                           2016-01-03\n",
       "Date.Month                                   1\n",
       "Date.Week of                                 3\n",
       "Date.Year                                 2016\n",
       "Station.City                     Puntilla Lake\n",
       "Station.Code                               PTI\n",
       "Station.Location             Puntilla Lake, AK\n",
       "Station.State                           Alaska\n",
       "Data.Temperature.Avg Temp                 15.6\n",
       "Data.Temperature.Max Temp                 15.6\n",
       "Data.Temperature.Min Temp                 15.6\n",
       "Data.Wind.Direction                          0\n",
       "Data.Wind.Speed                              0\n",
       "Name: 26, dtype: object"
      ]
     },
     "metadata": {},
     "execution_count": 19
    }
   ],
   "source": [
    "index_min_wind_speed = weather['Data.Wind.Speed'].idxmin()\n",
    "weather.iloc[index_min_wind_speed]"
   ]
  },
  {
   "source": [
    "Are we sure that there is only one station with minimal wind speed equal to 0? Let me check it."
   ],
   "cell_type": "markdown",
   "metadata": {}
  },
  {
   "cell_type": "code",
   "execution_count": 20,
   "metadata": {},
   "outputs": [
    {
     "output_type": "execute_result",
     "data": {
      "text/plain": [
       "       Data.Precipitation   Date.Full  Date.Month  Date.Week of  Date.Year  \\\n",
       "26                   0.00  2016-01-03           1             3       2016   \n",
       "27                   0.00  2016-01-03           1             3       2016   \n",
       "42                   0.00  2016-01-03           1             3       2016   \n",
       "47                   0.06  2016-01-03           1             3       2016   \n",
       "143                  0.21  2016-01-03           1             3       2016   \n",
       "...                   ...         ...         ...           ...        ...   \n",
       "16254                0.49  2016-12-25          12            25       2016   \n",
       "16453                0.00  2017-01-01           1             1       2017   \n",
       "16471                0.31  2017-01-01           1             1       2017   \n",
       "16475                0.02  2017-01-01           1             1       2017   \n",
       "16571                0.26  2017-01-01           1             1       2017   \n",
       "\n",
       "            Station.City Station.Code       Station.Location Station.State  \\\n",
       "26         Puntilla Lake          PTI      Puntilla Lake, AK        Alaska   \n",
       "27                Shemya          SYA             Shemya, AK        Alaska   \n",
       "42     North Little Rock          LZK  North Little Rock, AR      Arkansas   \n",
       "47                Eureka          EKA             Eureka, CA    California   \n",
       "143            Marquette          MQT          Marquette, MI      Michigan   \n",
       "...                  ...          ...                    ...           ...   \n",
       "16254          Marquette          MQT          Marquette, MI      Michigan   \n",
       "16453      Puntilla Lake          PTI      Puntilla Lake, AK        Alaska   \n",
       "16471  North Little Rock          LZK  North Little Rock, AR      Arkansas   \n",
       "16475             Eureka          EKA             Eureka, CA    California   \n",
       "16571          Marquette          MQT          Marquette, MI      Michigan   \n",
       "\n",
       "       Data.Temperature.Avg Temp  Data.Temperature.Max Temp  \\\n",
       "26                          15.6                       15.6   \n",
       "27                          15.6                       15.6   \n",
       "42                           5.6                        9.4   \n",
       "47                           6.7                       11.7   \n",
       "143                         -5.0                       -2.8   \n",
       "...                          ...                        ...   \n",
       "16254                       -5.0                       -1.1   \n",
       "16453                       15.6                       15.6   \n",
       "16471                       10.0                       13.9   \n",
       "16475                        6.7                       11.1   \n",
       "16571                       -6.7                       -3.3   \n",
       "\n",
       "       Data.Temperature.Min Temp  Data.Wind.Direction  Data.Wind.Speed  \n",
       "26                          15.6                    0              0.0  \n",
       "27                          15.6                    0              0.0  \n",
       "42                           1.1                    0              0.0  \n",
       "47                           0.6                    0              0.0  \n",
       "143                         -7.8                    0              0.0  \n",
       "...                          ...                  ...              ...  \n",
       "16254                       -9.4                    0              0.0  \n",
       "16453                       15.6                    0              0.0  \n",
       "16471                        6.1                    0              0.0  \n",
       "16475                        1.7                    0              0.0  \n",
       "16571                      -10.6                    0              0.0  \n",
       "\n",
       "[223 rows x 14 columns]"
      ],
      "text/html": "<div>\n<style scoped>\n    .dataframe tbody tr th:only-of-type {\n        vertical-align: middle;\n    }\n\n    .dataframe tbody tr th {\n        vertical-align: top;\n    }\n\n    .dataframe thead th {\n        text-align: right;\n    }\n</style>\n<table border=\"1\" class=\"dataframe\">\n  <thead>\n    <tr style=\"text-align: right;\">\n      <th></th>\n      <th>Data.Precipitation</th>\n      <th>Date.Full</th>\n      <th>Date.Month</th>\n      <th>Date.Week of</th>\n      <th>Date.Year</th>\n      <th>Station.City</th>\n      <th>Station.Code</th>\n      <th>Station.Location</th>\n      <th>Station.State</th>\n      <th>Data.Temperature.Avg Temp</th>\n      <th>Data.Temperature.Max Temp</th>\n      <th>Data.Temperature.Min Temp</th>\n      <th>Data.Wind.Direction</th>\n      <th>Data.Wind.Speed</th>\n    </tr>\n  </thead>\n  <tbody>\n    <tr>\n      <th>26</th>\n      <td>0.00</td>\n      <td>2016-01-03</td>\n      <td>1</td>\n      <td>3</td>\n      <td>2016</td>\n      <td>Puntilla Lake</td>\n      <td>PTI</td>\n      <td>Puntilla Lake, AK</td>\n      <td>Alaska</td>\n      <td>15.6</td>\n      <td>15.6</td>\n      <td>15.6</td>\n      <td>0</td>\n      <td>0.0</td>\n    </tr>\n    <tr>\n      <th>27</th>\n      <td>0.00</td>\n      <td>2016-01-03</td>\n      <td>1</td>\n      <td>3</td>\n      <td>2016</td>\n      <td>Shemya</td>\n      <td>SYA</td>\n      <td>Shemya, AK</td>\n      <td>Alaska</td>\n      <td>15.6</td>\n      <td>15.6</td>\n      <td>15.6</td>\n      <td>0</td>\n      <td>0.0</td>\n    </tr>\n    <tr>\n      <th>42</th>\n      <td>0.00</td>\n      <td>2016-01-03</td>\n      <td>1</td>\n      <td>3</td>\n      <td>2016</td>\n      <td>North Little Rock</td>\n      <td>LZK</td>\n      <td>North Little Rock, AR</td>\n      <td>Arkansas</td>\n      <td>5.6</td>\n      <td>9.4</td>\n      <td>1.1</td>\n      <td>0</td>\n      <td>0.0</td>\n    </tr>\n    <tr>\n      <th>47</th>\n      <td>0.06</td>\n      <td>2016-01-03</td>\n      <td>1</td>\n      <td>3</td>\n      <td>2016</td>\n      <td>Eureka</td>\n      <td>EKA</td>\n      <td>Eureka, CA</td>\n      <td>California</td>\n      <td>6.7</td>\n      <td>11.7</td>\n      <td>0.6</td>\n      <td>0</td>\n      <td>0.0</td>\n    </tr>\n    <tr>\n      <th>143</th>\n      <td>0.21</td>\n      <td>2016-01-03</td>\n      <td>1</td>\n      <td>3</td>\n      <td>2016</td>\n      <td>Marquette</td>\n      <td>MQT</td>\n      <td>Marquette, MI</td>\n      <td>Michigan</td>\n      <td>-5.0</td>\n      <td>-2.8</td>\n      <td>-7.8</td>\n      <td>0</td>\n      <td>0.0</td>\n    </tr>\n    <tr>\n      <th>...</th>\n      <td>...</td>\n      <td>...</td>\n      <td>...</td>\n      <td>...</td>\n      <td>...</td>\n      <td>...</td>\n      <td>...</td>\n      <td>...</td>\n      <td>...</td>\n      <td>...</td>\n      <td>...</td>\n      <td>...</td>\n      <td>...</td>\n      <td>...</td>\n    </tr>\n    <tr>\n      <th>16254</th>\n      <td>0.49</td>\n      <td>2016-12-25</td>\n      <td>12</td>\n      <td>25</td>\n      <td>2016</td>\n      <td>Marquette</td>\n      <td>MQT</td>\n      <td>Marquette, MI</td>\n      <td>Michigan</td>\n      <td>-5.0</td>\n      <td>-1.1</td>\n      <td>-9.4</td>\n      <td>0</td>\n      <td>0.0</td>\n    </tr>\n    <tr>\n      <th>16453</th>\n      <td>0.00</td>\n      <td>2017-01-01</td>\n      <td>1</td>\n      <td>1</td>\n      <td>2017</td>\n      <td>Puntilla Lake</td>\n      <td>PTI</td>\n      <td>Puntilla Lake, AK</td>\n      <td>Alaska</td>\n      <td>15.6</td>\n      <td>15.6</td>\n      <td>15.6</td>\n      <td>0</td>\n      <td>0.0</td>\n    </tr>\n    <tr>\n      <th>16471</th>\n      <td>0.31</td>\n      <td>2017-01-01</td>\n      <td>1</td>\n      <td>1</td>\n      <td>2017</td>\n      <td>North Little Rock</td>\n      <td>LZK</td>\n      <td>North Little Rock, AR</td>\n      <td>Arkansas</td>\n      <td>10.0</td>\n      <td>13.9</td>\n      <td>6.1</td>\n      <td>0</td>\n      <td>0.0</td>\n    </tr>\n    <tr>\n      <th>16475</th>\n      <td>0.02</td>\n      <td>2017-01-01</td>\n      <td>1</td>\n      <td>1</td>\n      <td>2017</td>\n      <td>Eureka</td>\n      <td>EKA</td>\n      <td>Eureka, CA</td>\n      <td>California</td>\n      <td>6.7</td>\n      <td>11.1</td>\n      <td>1.7</td>\n      <td>0</td>\n      <td>0.0</td>\n    </tr>\n    <tr>\n      <th>16571</th>\n      <td>0.26</td>\n      <td>2017-01-01</td>\n      <td>1</td>\n      <td>1</td>\n      <td>2017</td>\n      <td>Marquette</td>\n      <td>MQT</td>\n      <td>Marquette, MI</td>\n      <td>Michigan</td>\n      <td>-6.7</td>\n      <td>-3.3</td>\n      <td>-10.6</td>\n      <td>0</td>\n      <td>0.0</td>\n    </tr>\n  </tbody>\n</table>\n<p>223 rows × 14 columns</p>\n</div>"
     },
     "metadata": {},
     "execution_count": 20
    }
   ],
   "source": [
    "weather.loc[weather['Data.Wind.Speed'] == 0]"
   ]
  },
  {
   "source": [
    "1. Ilość pomiarow z każdej stacji \n",
    "2. Min wartości dla każdej stacji\n",
    "3. 3 najniższe temperatury z każdej stacji (w kolejności uszeregowane) (w jednej kolumnie wszystkie trzy wypisane) i policzyć z nich średnią\n",
    "3a. Dla każdej stacji posortować wg wartości temperatur, pogrupować je w trójki i dla każdej trójki policzyć średnią  \n",
    "4. Czym się różnią funkcje filter i loc - sprawdzić "
   ],
   "cell_type": "markdown",
   "metadata": {}
  },
  {
   "source": [
    "**Ad. 1. Ilość pomiarow z każdej stacji**"
   ],
   "cell_type": "markdown",
   "metadata": {}
  },
  {
   "cell_type": "code",
   "execution_count": 21,
   "metadata": {},
   "outputs": [
    {
     "output_type": "stream",
     "name": "stdout",
     "text": [
      "          Station.Location   0\n0             Aberdeen, SD  53\n1              Abilene, TX  53\n2                Akron, OH  53\n3              Alamosa, CO  53\n4               Albany, NY  53\n..                     ...  ..\n313          Worcester, MA  53\n314           Wrangell, AK  30\n315             Yakima, WA  53\n316            Yakutat, AK  53\n317  Youngstown/Warren, OH  53\n\n[318 rows x 2 columns]\n"
     ]
    }
   ],
   "source": [
    "weather_stations = weather.groupby(['Station.Location'])\n",
    "#print(weather_stations.size())\n",
    "\n",
    "#print(weather_stations.size().min())\n",
    "#min_location_records = weather_stations.size().min()\n",
    "# creating of new dataframe\n",
    "weather_stations_size = weather_stations.size().reset_index()\n",
    "print(weather_stations_size)"
   ]
  },
  {
   "cell_type": "code",
   "execution_count": 22,
   "metadata": {},
   "outputs": [
    {
     "output_type": "execute_result",
     "data": {
      "text/plain": [
       "          Station.Location   0\n",
       "293         Unalakleet, AK   5\n",
       "314           Wrangell, AK  30\n",
       "56          China Lake, CA  45\n",
       "197     Mt. Washington, NH  47\n",
       "190             Milton, MA  47\n",
       "..                     ...  ..\n",
       "103              Flint, MI  53\n",
       "102              Fargo, ND  53\n",
       "101          Fairbanks, AK  53\n",
       "108             Fresno, CA  53\n",
       "317  Youngstown/Warren, OH  53\n",
       "\n",
       "[318 rows x 2 columns]"
      ],
      "text/html": "<div>\n<style scoped>\n    .dataframe tbody tr th:only-of-type {\n        vertical-align: middle;\n    }\n\n    .dataframe tbody tr th {\n        vertical-align: top;\n    }\n\n    .dataframe thead th {\n        text-align: right;\n    }\n</style>\n<table border=\"1\" class=\"dataframe\">\n  <thead>\n    <tr style=\"text-align: right;\">\n      <th></th>\n      <th>Station.Location</th>\n      <th>0</th>\n    </tr>\n  </thead>\n  <tbody>\n    <tr>\n      <th>293</th>\n      <td>Unalakleet, AK</td>\n      <td>5</td>\n    </tr>\n    <tr>\n      <th>314</th>\n      <td>Wrangell, AK</td>\n      <td>30</td>\n    </tr>\n    <tr>\n      <th>56</th>\n      <td>China Lake, CA</td>\n      <td>45</td>\n    </tr>\n    <tr>\n      <th>197</th>\n      <td>Mt. Washington, NH</td>\n      <td>47</td>\n    </tr>\n    <tr>\n      <th>190</th>\n      <td>Milton, MA</td>\n      <td>47</td>\n    </tr>\n    <tr>\n      <th>...</th>\n      <td>...</td>\n      <td>...</td>\n    </tr>\n    <tr>\n      <th>103</th>\n      <td>Flint, MI</td>\n      <td>53</td>\n    </tr>\n    <tr>\n      <th>102</th>\n      <td>Fargo, ND</td>\n      <td>53</td>\n    </tr>\n    <tr>\n      <th>101</th>\n      <td>Fairbanks, AK</td>\n      <td>53</td>\n    </tr>\n    <tr>\n      <th>108</th>\n      <td>Fresno, CA</td>\n      <td>53</td>\n    </tr>\n    <tr>\n      <th>317</th>\n      <td>Youngstown/Warren, OH</td>\n      <td>53</td>\n    </tr>\n  </tbody>\n</table>\n<p>318 rows × 2 columns</p>\n</div>"
     },
     "metadata": {},
     "execution_count": 22
    }
   ],
   "source": [
    "weather_stations_size.sort_values(by=0)"
   ]
  },
  {
   "source": [
    "Ad 2. Minimal values for each station"
   ],
   "cell_type": "markdown",
   "metadata": {}
  },
  {
   "cell_type": "code",
   "execution_count": 23,
   "metadata": {},
   "outputs": [
    {
     "output_type": "execute_result",
     "data": {
      "text/plain": [
       "                       Data.Precipitation   Date.Full  Date.Month  \\\n",
       "Station.Location                                                    \n",
       "Aberdeen, SD                          0.0  2016-01-03           1   \n",
       "Abilene, TX                           0.0  2016-01-03           1   \n",
       "Akron, OH                             0.0  2016-01-03           1   \n",
       "Alamosa, CO                           0.0  2016-01-03           1   \n",
       "Albany, NY                            0.0  2016-01-03           1   \n",
       "...                                   ...         ...         ...   \n",
       "Worcester, MA                         0.0  2016-01-03           1   \n",
       "Wrangell, AK                          0.0  2016-03-06           1   \n",
       "Yakima, WA                            0.0  2016-01-03           1   \n",
       "Yakutat, AK                           0.0  2016-01-03           1   \n",
       "Youngstown/Warren, OH                 0.0  2016-01-03           1   \n",
       "\n",
       "                       Date.Week of  Date.Year       Station.City  \\\n",
       "Station.Location                                                    \n",
       "Aberdeen, SD                      1       2016           Aberdeen   \n",
       "Abilene, TX                       1       2016            Abilene   \n",
       "Akron, OH                         1       2016              Akron   \n",
       "Alamosa, CO                       1       2016            Alamosa   \n",
       "Albany, NY                        1       2016             Albany   \n",
       "...                             ...        ...                ...   \n",
       "Worcester, MA                     1       2016          Worcester   \n",
       "Wrangell, AK                      1       2016           Wrangell   \n",
       "Yakima, WA                        1       2016             Yakima   \n",
       "Yakutat, AK                       1       2016            Yakutat   \n",
       "Youngstown/Warren, OH             1       2016  Youngstown/Warren   \n",
       "\n",
       "                      Station.Code  Station.State  Data.Temperature.Avg Temp  \\\n",
       "Station.Location                                                               \n",
       "Aberdeen, SD                   ABR   South Dakota                      -21.1   \n",
       "Abilene, TX                    ABI          Texas                        5.0   \n",
       "Akron, OH                      CAK           Ohio                       -8.3   \n",
       "Alamosa, CO                    ALS       Colorado                      -16.1   \n",
       "Albany, NY                     ALB       New York                       -8.3   \n",
       "...                            ...            ...                        ...   \n",
       "Worcester, MA                  ORH  Massachusetts                      -10.6   \n",
       "Wrangell, AK                   WRG         Alaska                       15.6   \n",
       "Yakima, WA                     YKM     Washington                       -8.9   \n",
       "Yakutat, AK                    YAK         Alaska                       -5.6   \n",
       "Youngstown/Warren, OH          YNG           Ohio                       -9.4   \n",
       "\n",
       "                       Data.Temperature.Max Temp  Data.Temperature.Min Temp  \\\n",
       "Station.Location                                                              \n",
       "Aberdeen, SD                               -13.9                      -28.9   \n",
       "Abilene, TX                                  8.3                       -2.2   \n",
       "Akron, OH                                   -5.0                      -12.2   \n",
       "Alamosa, CO                                 -5.0                      -27.2   \n",
       "Albany, NY                                  -3.3                      -13.3   \n",
       "...                                          ...                        ...   \n",
       "Worcester, MA                               -5.6                      -16.1   \n",
       "Wrangell, AK                                15.6                       15.6   \n",
       "Yakima, WA                                  -4.4                      -13.3   \n",
       "Yakutat, AK                                 -1.7                      -10.0   \n",
       "Youngstown/Warren, OH                       -5.6                      -13.9   \n",
       "\n",
       "                       Data.Wind.Direction  Data.Wind.Speed  \n",
       "Station.Location                                             \n",
       "Aberdeen, SD                             8             4.52  \n",
       "Abilene, TX                              1             4.92  \n",
       "Akron, OH                                5             2.50  \n",
       "Alamosa, CO                             11             0.80  \n",
       "Albany, NY                              13             2.42  \n",
       "...                                    ...              ...  \n",
       "Worcester, MA                            3             5.00  \n",
       "Wrangell, AK                             8             1.35  \n",
       "Yakima, WA                              20             1.44  \n",
       "Yakutat, AK                              0             0.00  \n",
       "Youngstown/Warren, OH                   11             1.40  \n",
       "\n",
       "[318 rows x 13 columns]"
      ],
      "text/html": "<div>\n<style scoped>\n    .dataframe tbody tr th:only-of-type {\n        vertical-align: middle;\n    }\n\n    .dataframe tbody tr th {\n        vertical-align: top;\n    }\n\n    .dataframe thead th {\n        text-align: right;\n    }\n</style>\n<table border=\"1\" class=\"dataframe\">\n  <thead>\n    <tr style=\"text-align: right;\">\n      <th></th>\n      <th>Data.Precipitation</th>\n      <th>Date.Full</th>\n      <th>Date.Month</th>\n      <th>Date.Week of</th>\n      <th>Date.Year</th>\n      <th>Station.City</th>\n      <th>Station.Code</th>\n      <th>Station.State</th>\n      <th>Data.Temperature.Avg Temp</th>\n      <th>Data.Temperature.Max Temp</th>\n      <th>Data.Temperature.Min Temp</th>\n      <th>Data.Wind.Direction</th>\n      <th>Data.Wind.Speed</th>\n    </tr>\n    <tr>\n      <th>Station.Location</th>\n      <th></th>\n      <th></th>\n      <th></th>\n      <th></th>\n      <th></th>\n      <th></th>\n      <th></th>\n      <th></th>\n      <th></th>\n      <th></th>\n      <th></th>\n      <th></th>\n      <th></th>\n    </tr>\n  </thead>\n  <tbody>\n    <tr>\n      <th>Aberdeen, SD</th>\n      <td>0.0</td>\n      <td>2016-01-03</td>\n      <td>1</td>\n      <td>1</td>\n      <td>2016</td>\n      <td>Aberdeen</td>\n      <td>ABR</td>\n      <td>South Dakota</td>\n      <td>-21.1</td>\n      <td>-13.9</td>\n      <td>-28.9</td>\n      <td>8</td>\n      <td>4.52</td>\n    </tr>\n    <tr>\n      <th>Abilene, TX</th>\n      <td>0.0</td>\n      <td>2016-01-03</td>\n      <td>1</td>\n      <td>1</td>\n      <td>2016</td>\n      <td>Abilene</td>\n      <td>ABI</td>\n      <td>Texas</td>\n      <td>5.0</td>\n      <td>8.3</td>\n      <td>-2.2</td>\n      <td>1</td>\n      <td>4.92</td>\n    </tr>\n    <tr>\n      <th>Akron, OH</th>\n      <td>0.0</td>\n      <td>2016-01-03</td>\n      <td>1</td>\n      <td>1</td>\n      <td>2016</td>\n      <td>Akron</td>\n      <td>CAK</td>\n      <td>Ohio</td>\n      <td>-8.3</td>\n      <td>-5.0</td>\n      <td>-12.2</td>\n      <td>5</td>\n      <td>2.50</td>\n    </tr>\n    <tr>\n      <th>Alamosa, CO</th>\n      <td>0.0</td>\n      <td>2016-01-03</td>\n      <td>1</td>\n      <td>1</td>\n      <td>2016</td>\n      <td>Alamosa</td>\n      <td>ALS</td>\n      <td>Colorado</td>\n      <td>-16.1</td>\n      <td>-5.0</td>\n      <td>-27.2</td>\n      <td>11</td>\n      <td>0.80</td>\n    </tr>\n    <tr>\n      <th>Albany, NY</th>\n      <td>0.0</td>\n      <td>2016-01-03</td>\n      <td>1</td>\n      <td>1</td>\n      <td>2016</td>\n      <td>Albany</td>\n      <td>ALB</td>\n      <td>New York</td>\n      <td>-8.3</td>\n      <td>-3.3</td>\n      <td>-13.3</td>\n      <td>13</td>\n      <td>2.42</td>\n    </tr>\n    <tr>\n      <th>...</th>\n      <td>...</td>\n      <td>...</td>\n      <td>...</td>\n      <td>...</td>\n      <td>...</td>\n      <td>...</td>\n      <td>...</td>\n      <td>...</td>\n      <td>...</td>\n      <td>...</td>\n      <td>...</td>\n      <td>...</td>\n      <td>...</td>\n    </tr>\n    <tr>\n      <th>Worcester, MA</th>\n      <td>0.0</td>\n      <td>2016-01-03</td>\n      <td>1</td>\n      <td>1</td>\n      <td>2016</td>\n      <td>Worcester</td>\n      <td>ORH</td>\n      <td>Massachusetts</td>\n      <td>-10.6</td>\n      <td>-5.6</td>\n      <td>-16.1</td>\n      <td>3</td>\n      <td>5.00</td>\n    </tr>\n    <tr>\n      <th>Wrangell, AK</th>\n      <td>0.0</td>\n      <td>2016-03-06</td>\n      <td>1</td>\n      <td>1</td>\n      <td>2016</td>\n      <td>Wrangell</td>\n      <td>WRG</td>\n      <td>Alaska</td>\n      <td>15.6</td>\n      <td>15.6</td>\n      <td>15.6</td>\n      <td>8</td>\n      <td>1.35</td>\n    </tr>\n    <tr>\n      <th>Yakima, WA</th>\n      <td>0.0</td>\n      <td>2016-01-03</td>\n      <td>1</td>\n      <td>1</td>\n      <td>2016</td>\n      <td>Yakima</td>\n      <td>YKM</td>\n      <td>Washington</td>\n      <td>-8.9</td>\n      <td>-4.4</td>\n      <td>-13.3</td>\n      <td>20</td>\n      <td>1.44</td>\n    </tr>\n    <tr>\n      <th>Yakutat, AK</th>\n      <td>0.0</td>\n      <td>2016-01-03</td>\n      <td>1</td>\n      <td>1</td>\n      <td>2016</td>\n      <td>Yakutat</td>\n      <td>YAK</td>\n      <td>Alaska</td>\n      <td>-5.6</td>\n      <td>-1.7</td>\n      <td>-10.0</td>\n      <td>0</td>\n      <td>0.00</td>\n    </tr>\n    <tr>\n      <th>Youngstown/Warren, OH</th>\n      <td>0.0</td>\n      <td>2016-01-03</td>\n      <td>1</td>\n      <td>1</td>\n      <td>2016</td>\n      <td>Youngstown/Warren</td>\n      <td>YNG</td>\n      <td>Ohio</td>\n      <td>-9.4</td>\n      <td>-5.6</td>\n      <td>-13.9</td>\n      <td>11</td>\n      <td>1.40</td>\n    </tr>\n  </tbody>\n</table>\n<p>318 rows × 13 columns</p>\n</div>"
     },
     "metadata": {},
     "execution_count": 23
    }
   ],
   "source": [
    "weather_stations.min()"
   ]
  },
  {
   "source": [
    "3a. Select 3 the highest values of temperature for each station"
   ],
   "cell_type": "markdown",
   "metadata": {}
  },
  {
   "cell_type": "code",
   "execution_count": 24,
   "metadata": {},
   "outputs": [
    {
     "output_type": "execute_result",
     "data": {
      "text/plain": [
       "                       count       mean           std   min   25%   50%   75%  \\\n",
       "Station.Location                                                                \n",
       "Aberdeen, SD            53.0   8.409434  1.168035e+01 -21.1   0.6   9.4  18.3   \n",
       "Abilene, TX             53.0  18.749057  7.940103e+00   5.0  12.2  19.4  25.6   \n",
       "Akron, OH               53.0  11.384906  1.010494e+01  -8.3   2.8  12.8  21.1   \n",
       "Alamosa, CO             53.0   5.816981  1.014506e+01 -16.1  -1.1   6.1  15.6   \n",
       "Albany, NY              53.0  10.328302  9.705676e+00  -8.3   1.1  10.0  19.4   \n",
       "...                      ...        ...           ...   ...   ...   ...   ...   \n",
       "Worcester, MA           53.0   9.373585  9.573364e+00 -10.6   0.6   7.8  18.3   \n",
       "Wrangell, AK            30.0  15.600000  3.613448e-15  15.6  15.6  15.6  15.6   \n",
       "Yakima, WA              53.0  11.792453  8.857979e+00  -8.9   5.6  12.2  17.8   \n",
       "Yakutat, AK             53.0   6.677358  5.582274e+00  -5.6   2.8   5.6  11.7   \n",
       "Youngstown/Warren, OH   53.0  10.622642  9.807231e+00  -9.4   2.2  12.2  20.0   \n",
       "\n",
       "                        max  \n",
       "Station.Location             \n",
       "Aberdeen, SD           25.6  \n",
       "Abilene, TX            31.7  \n",
       "Akron, OH              26.1  \n",
       "Alamosa, CO            20.6  \n",
       "Albany, NY             25.6  \n",
       "...                     ...  \n",
       "Worcester, MA          24.4  \n",
       "Wrangell, AK           15.6  \n",
       "Yakima, WA             28.3  \n",
       "Yakutat, AK            15.6  \n",
       "Youngstown/Warren, OH  25.0  \n",
       "\n",
       "[318 rows x 8 columns]"
      ],
      "text/html": "<div>\n<style scoped>\n    .dataframe tbody tr th:only-of-type {\n        vertical-align: middle;\n    }\n\n    .dataframe tbody tr th {\n        vertical-align: top;\n    }\n\n    .dataframe thead th {\n        text-align: right;\n    }\n</style>\n<table border=\"1\" class=\"dataframe\">\n  <thead>\n    <tr style=\"text-align: right;\">\n      <th></th>\n      <th>count</th>\n      <th>mean</th>\n      <th>std</th>\n      <th>min</th>\n      <th>25%</th>\n      <th>50%</th>\n      <th>75%</th>\n      <th>max</th>\n    </tr>\n    <tr>\n      <th>Station.Location</th>\n      <th></th>\n      <th></th>\n      <th></th>\n      <th></th>\n      <th></th>\n      <th></th>\n      <th></th>\n      <th></th>\n    </tr>\n  </thead>\n  <tbody>\n    <tr>\n      <th>Aberdeen, SD</th>\n      <td>53.0</td>\n      <td>8.409434</td>\n      <td>1.168035e+01</td>\n      <td>-21.1</td>\n      <td>0.6</td>\n      <td>9.4</td>\n      <td>18.3</td>\n      <td>25.6</td>\n    </tr>\n    <tr>\n      <th>Abilene, TX</th>\n      <td>53.0</td>\n      <td>18.749057</td>\n      <td>7.940103e+00</td>\n      <td>5.0</td>\n      <td>12.2</td>\n      <td>19.4</td>\n      <td>25.6</td>\n      <td>31.7</td>\n    </tr>\n    <tr>\n      <th>Akron, OH</th>\n      <td>53.0</td>\n      <td>11.384906</td>\n      <td>1.010494e+01</td>\n      <td>-8.3</td>\n      <td>2.8</td>\n      <td>12.8</td>\n      <td>21.1</td>\n      <td>26.1</td>\n    </tr>\n    <tr>\n      <th>Alamosa, CO</th>\n      <td>53.0</td>\n      <td>5.816981</td>\n      <td>1.014506e+01</td>\n      <td>-16.1</td>\n      <td>-1.1</td>\n      <td>6.1</td>\n      <td>15.6</td>\n      <td>20.6</td>\n    </tr>\n    <tr>\n      <th>Albany, NY</th>\n      <td>53.0</td>\n      <td>10.328302</td>\n      <td>9.705676e+00</td>\n      <td>-8.3</td>\n      <td>1.1</td>\n      <td>10.0</td>\n      <td>19.4</td>\n      <td>25.6</td>\n    </tr>\n    <tr>\n      <th>...</th>\n      <td>...</td>\n      <td>...</td>\n      <td>...</td>\n      <td>...</td>\n      <td>...</td>\n      <td>...</td>\n      <td>...</td>\n      <td>...</td>\n    </tr>\n    <tr>\n      <th>Worcester, MA</th>\n      <td>53.0</td>\n      <td>9.373585</td>\n      <td>9.573364e+00</td>\n      <td>-10.6</td>\n      <td>0.6</td>\n      <td>7.8</td>\n      <td>18.3</td>\n      <td>24.4</td>\n    </tr>\n    <tr>\n      <th>Wrangell, AK</th>\n      <td>30.0</td>\n      <td>15.600000</td>\n      <td>3.613448e-15</td>\n      <td>15.6</td>\n      <td>15.6</td>\n      <td>15.6</td>\n      <td>15.6</td>\n      <td>15.6</td>\n    </tr>\n    <tr>\n      <th>Yakima, WA</th>\n      <td>53.0</td>\n      <td>11.792453</td>\n      <td>8.857979e+00</td>\n      <td>-8.9</td>\n      <td>5.6</td>\n      <td>12.2</td>\n      <td>17.8</td>\n      <td>28.3</td>\n    </tr>\n    <tr>\n      <th>Yakutat, AK</th>\n      <td>53.0</td>\n      <td>6.677358</td>\n      <td>5.582274e+00</td>\n      <td>-5.6</td>\n      <td>2.8</td>\n      <td>5.6</td>\n      <td>11.7</td>\n      <td>15.6</td>\n    </tr>\n    <tr>\n      <th>Youngstown/Warren, OH</th>\n      <td>53.0</td>\n      <td>10.622642</td>\n      <td>9.807231e+00</td>\n      <td>-9.4</td>\n      <td>2.2</td>\n      <td>12.2</td>\n      <td>20.0</td>\n      <td>25.0</td>\n    </tr>\n  </tbody>\n</table>\n<p>318 rows × 8 columns</p>\n</div>"
     },
     "metadata": {},
     "execution_count": 24
    }
   ],
   "source": [
    "weather_stations_temp = weather_stations['Data.Temperature.Avg Temp']\n",
    "# print(weather_stations_temp)\n",
    "weather_stations_temp.describe()\n"
   ]
  },
  {
   "cell_type": "code",
   "execution_count": 29,
   "metadata": {},
   "outputs": [
    {
     "output_type": "execute_result",
     "data": {
      "text/plain": [
       "Station.Location            \n",
       "Aberdeen, SD           9402     25.6\n",
       "                       7513     23.3\n",
       "                       7828     23.3\n",
       "Abilene, TX            10045    31.7\n",
       "                       8786     30.6\n",
       "                                ... \n",
       "Yakutat, AK            7614     15.6\n",
       "                       7929     15.6\n",
       "Youngstown/Warren, OH  10323    25.0\n",
       "                       9062     23.3\n",
       "                       9376     23.3\n",
       "Name: Data.Temperature.Avg Temp, Length: 954, dtype: float64"
      ]
     },
     "metadata": {},
     "execution_count": 29
    }
   ],
   "source": [
    "weather_stations_temp.nlargest(3)"
   ]
  },
  {
   "cell_type": "code",
   "execution_count": 40,
   "metadata": {},
   "outputs": [
    {
     "output_type": "execute_result",
     "data": {
      "text/plain": [
       "[31.7, 30.6, 30.6]"
      ]
     },
     "metadata": {},
     "execution_count": 40
    }
   ],
   "source": [
    "weather_stations_temp_3largest = weather_stations_temp.nlargest(3)\n",
    "list(weather_stations_temp_3largest['Abilene, TX'])"
   ]
  },
  {
   "cell_type": "code",
   "execution_count": 76,
   "metadata": {},
   "outputs": [
    {
     "output_type": "stream",
     "name": "stdout",
     "text": [
      "                             Data.Temperature.Avg Temp\nStation.Location                                      \nAberdeen, SD          9402                        25.6\n                      7513                        23.3\n                      7828                        23.3\nAbilene, TX           10045                       31.7\n                      8786                        30.6\n...                                                ...\nYakutat, AK           7614                        15.6\n                      7929                        15.6\nYoungstown/Warren, OH 10323                       25.0\n                      9062                        23.3\n                      9376                        23.3\n\n[954 rows x 1 columns]\n"
     ]
    },
    {
     "output_type": "execute_result",
     "data": {
      "text/plain": [
       "pandas.core.frame.DataFrame"
      ]
     },
     "metadata": {},
     "execution_count": 76
    }
   ],
   "source": [
    "print(weather_stations_temp_3largest)\n",
    "type(weather_stations_temp_3largest)"
   ]
  },
  {
   "cell_type": "code",
   "execution_count": 75,
   "metadata": {},
   "outputs": [
    {
     "output_type": "stream",
     "name": "stdout",
     "text": [
      "    atable column column_type is_null\n0    Users  col_1     varchar      No\n1    Users  col_2     varchar      No\n2  Domains  col_a         int     Yes\n3  Domains  col_b     varchar      No\n4    Locks    col     varchar     Yes\n<pandas.core.groupby.generic.DataFrameGroupBy object at 0x000001EE605C9400>\n\n Domains(\nint,\nvarchar,\n);\n\n Locks(\nvarchar,\n);\n\n Users(\nvarchar,\nvarchar,\n);\n"
     ]
    }
   ],
   "source": [
    "df1 = pd.DataFrame({\n",
    "    'atable':     ['Users', 'Users', 'Domains', 'Domains', 'Locks'],\n",
    "    'column':     ['col_1', 'col_2', 'col_a', 'col_b', 'col'],\n",
    "    'column_type':['varchar', 'varchar', 'int', 'varchar', 'varchar'],\n",
    "    'is_null':    ['No', 'No', 'Yes', 'No', 'Yes'],\n",
    "})\n",
    "print(df1)\n",
    "df1_grouped = df1.groupby('atable')\n",
    "print(df1_grouped)\n",
    "# iterate over each group\n",
    "for group_name, df_group in df1_grouped:\n",
    "    print('\\n {}('.format(group_name))\n",
    "\n",
    "    for row_index, row in df_group.iterrows():\n",
    "        column_type = row['column_type']\n",
    "        print('{},'.format(column_type))\n",
    "\n",
    "    print(\");\")"
   ]
  },
  {
   "cell_type": "code",
   "execution_count": 77,
   "metadata": {},
   "outputs": [
    {
     "output_type": "error",
     "ename": "ValueError",
     "evalue": "too many values to unpack (expected 2)",
     "traceback": [
      "\u001b[1;31m---------------------------------------------------------------------------\u001b[0m",
      "\u001b[1;31mValueError\u001b[0m                                Traceback (most recent call last)",
      "\u001b[1;32m<ipython-input-77-2b53e4d23d4d>\u001b[0m in \u001b[0;36m<module>\u001b[1;34m\u001b[0m\n\u001b[1;32m----> 1\u001b[1;33m \u001b[1;32mfor\u001b[0m \u001b[0mgroup_name\u001b[0m\u001b[1;33m,\u001b[0m \u001b[0mdf_group\u001b[0m \u001b[1;32min\u001b[0m \u001b[0mweather_stations_temp_3largest\u001b[0m\u001b[1;33m:\u001b[0m\u001b[1;33m\u001b[0m\u001b[1;33m\u001b[0m\u001b[0m\n\u001b[0m\u001b[0;32m      2\u001b[0m     \u001b[0mprint\u001b[0m\u001b[1;33m(\u001b[0m\u001b[1;34m'\\n{}'\u001b[0m\u001b[1;33m.\u001b[0m\u001b[0mformat\u001b[0m\u001b[1;33m(\u001b[0m\u001b[0mgroup_name\u001b[0m\u001b[1;33m)\u001b[0m\u001b[1;33m)\u001b[0m\u001b[1;33m\u001b[0m\u001b[1;33m\u001b[0m\u001b[0m\n\u001b[0;32m      3\u001b[0m \u001b[1;33m\u001b[0m\u001b[0m\n\u001b[0;32m      4\u001b[0m     \u001b[1;32mfor\u001b[0m \u001b[0mrow_index\u001b[0m\u001b[1;33m,\u001b[0m \u001b[0mrow\u001b[0m \u001b[1;32min\u001b[0m \u001b[0mdf_group\u001b[0m\u001b[1;33m.\u001b[0m\u001b[0minterrows\u001b[0m\u001b[1;33m(\u001b[0m\u001b[1;33m)\u001b[0m\u001b[1;33m:\u001b[0m\u001b[1;33m\u001b[0m\u001b[1;33m\u001b[0m\u001b[0m\n\u001b[0;32m      5\u001b[0m         \u001b[0mcolumn_type\u001b[0m \u001b[1;33m=\u001b[0m \u001b[0mrow\u001b[0m\u001b[1;33m[\u001b[0m\u001b[1;34m'Data.Temperature.Avg Temp'\u001b[0m\u001b[1;33m]\u001b[0m\u001b[1;33m\u001b[0m\u001b[1;33m\u001b[0m\u001b[0m\n",
      "\u001b[1;31mValueError\u001b[0m: too many values to unpack (expected 2)"
     ]
    }
   ],
   "source": [
    "for group_name, df_group in weather_stations_temp_3largest:\n",
    "    print('\\n{}'.format(group_name))\n",
    "\n",
    "    for row_index, row in df_group.interrows():\n",
    "        column_type = row['Data.Temperature.Avg Temp']\n",
    "        print('{},'.format(column_type))\n",
    "\n",
    "    print(\";\")"
   ]
  },
  {
   "cell_type": "code",
   "execution_count": null,
   "metadata": {},
   "outputs": [],
   "source": []
  }
 ]
}