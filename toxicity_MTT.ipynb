{
 "metadata": {
  "language_info": {
   "codemirror_mode": {
    "name": "ipython",
    "version": 3
   },
   "file_extension": ".py",
   "mimetype": "text/x-python",
   "name": "python",
   "nbconvert_exporter": "python",
   "pygments_lexer": "ipython3",
   "version": "3.8.4-final"
  },
  "orig_nbformat": 2,
  "kernelspec": {
   "name": "python38464bit5ff9940120d14a77bacde899b84cd449",
   "display_name": "Python 3.8.4 64-bit",
   "language": "python"
  }
 },
 "nbformat": 4,
 "nbformat_minor": 2,
 "cells": [
  {
   "cell_type": "code",
   "execution_count": 39,
   "metadata": {},
   "outputs": [],
   "source": [
    "import pandas as pd \n",
    "from functools import partial, reduce"
   ]
  },
  {
   "cell_type": "code",
   "execution_count": 40,
   "metadata": {},
   "outputs": [],
   "source": [
    "raw_data=pd.read_csv(r'C:\\Users\\Dell\\Desktop\\data_MTT.csv', delimiter= '\\t')"
   ]
  },
  {
   "cell_type": "code",
   "execution_count": 41,
   "metadata": {},
   "outputs": [
    {
     "output_type": "stream",
     "name": "stdout",
     "text": [
      "   contr   S_1   S_2   S_3    S_4   S_5   S_6   S_7   S_8\n0   3111  2111  1299  4444  44231  4232  6161  6497  2584\n1   3221  2324  1300  3616  44200  5000  2509  4230  2504\n2   3331  2537  1301  4428  44652  4443  4441  4256  2555\n"
     ]
    }
   ],
   "source": [
    "print(raw_data)"
   ]
  },
  {
   "cell_type": "code",
   "execution_count": 42,
   "metadata": {},
   "outputs": [
    {
     "output_type": "execute_result",
     "data": {
      "text/plain": [
       "3221.0"
      ]
     },
     "metadata": {},
     "execution_count": 42
    }
   ],
   "source": [
    "raw_data.contr.mean()"
   ]
  },
  {
   "cell_type": "code",
   "execution_count": 43,
   "metadata": {},
   "outputs": [
    {
     "output_type": "execute_result",
     "data": {
      "text/plain": [
       "contr     3331\n",
       "S_1       2537\n",
       "S_2       1301\n",
       "S_3       4428\n",
       "S_4      44652\n",
       "S_5       4443\n",
       "S_6       4441\n",
       "S_7       4256\n",
       "S_8       2555\n",
       "Name: 2, dtype: int64"
      ]
     },
     "metadata": {},
     "execution_count": 43
    }
   ],
   "source": [
    "raw_data.iloc[2]"
   ]
  },
  {
   "cell_type": "code",
   "execution_count": 44,
   "metadata": {},
   "outputs": [],
   "source": [
    "avr = lambda x: sum(x)/len(x)"
   ]
  },
  {
   "cell_type": "code",
   "execution_count": 45,
   "metadata": {},
   "outputs": [],
   "source": [
    "activity = lambda y1, y2: round((100*avr(y1)/avr(y2)), 3)"
   ]
  },
  {
   "cell_type": "code",
   "execution_count": 46,
   "metadata": {},
   "outputs": [
    {
     "output_type": "stream",
     "name": "stdout",
     "text": [
      "72.152\n"
     ]
    }
   ],
   "source": [
    "print(activity(raw_data.S_1, raw_data.contr))"
   ]
  },
  {
   "cell_type": "code",
   "execution_count": 47,
   "metadata": {},
   "outputs": [
    {
     "output_type": "stream",
     "name": "stdout",
     "text": [
      "[3111, 3221, 3331]\n"
     ]
    }
   ],
   "source": [
    "contr=list(raw_data.contr)\n",
    "print(contr)"
   ]
  },
  {
   "cell_type": "code",
   "execution_count": 48,
   "metadata": {},
   "outputs": [],
   "source": [
    "my_sum = lambda x, y: x+y\n",
    "my_length = lambda x, y: x+1\n"
   ]
  },
  {
   "cell_type": "code",
   "execution_count": 49,
   "metadata": {},
   "outputs": [
    {
     "output_type": "stream",
     "name": "stdout",
     "text": [
      "3221.0\n"
     ]
    }
   ],
   "source": [
    "print(reduce(my_sum, contr, 0)/reduce(my_length, contr, 0))"
   ]
  },
  {
   "cell_type": "code",
   "execution_count": 50,
   "metadata": {},
   "outputs": [
    {
     "output_type": "execute_result",
     "data": {
      "text/plain": [
       "[RangeIndex(start=0, stop=3, step=1),\n",
       " Index(['contr', 'S_1', 'S_2', 'S_3', 'S_4', 'S_5', 'S_6', 'S_7', 'S_8'], dtype='object')]"
      ]
     },
     "metadata": {},
     "execution_count": 50
    }
   ],
   "source": [
    "raw_data.axes"
   ]
  },
  {
   "cell_type": "code",
   "execution_count": 51,
   "metadata": {},
   "outputs": [
    {
     "output_type": "execute_result",
     "data": {
      "text/plain": [
       "contr     3221.000000\n",
       "S_1       2324.000000\n",
       "S_2       1300.000000\n",
       "S_3       4162.666667\n",
       "S_4      44361.000000\n",
       "S_5       4558.333333\n",
       "S_6       4370.333333\n",
       "S_7       4994.333333\n",
       "S_8       2547.666667\n",
       "dtype: float64"
      ]
     },
     "metadata": {},
     "execution_count": 51
    }
   ],
   "source": [
    "raw_data.mean(0)"
   ]
  },
  {
   "cell_type": "code",
   "execution_count": 52,
   "metadata": {},
   "outputs": [
    {
     "output_type": "stream",
     "name": "stdout",
     "text": [
      "    contr     S_1     S_2          S_3      S_4          S_5          S_6  \\\n0  3111.0  2111.0  1299.0  4444.000000  44231.0  4232.000000  6161.000000   \n1  3221.0  2324.0  1300.0  3616.000000  44200.0  5000.000000  2509.000000   \n2  3331.0  2537.0  1301.0  4428.000000  44652.0  4443.000000  4441.000000   \n3  3221.0  2324.0  1300.0  4162.666667  44361.0  4558.333333  4370.333333   \n\n           S_7          S_8  \n0  6497.000000  2584.000000  \n1  4230.000000  2504.000000  \n2  4256.000000  2555.000000  \n3  4994.333333  2547.666667  \n"
     ]
    }
   ],
   "source": [
    "raw_data_2 = raw_data.append(raw_data.mean(0), ignore_index=True)\n",
    "print(raw_data_2)"
   ]
  },
  {
   "cell_type": "code",
   "execution_count": 53,
   "metadata": {},
   "outputs": [
    {
     "output_type": "stream",
     "name": "stdout",
     "text": [
      "3221.0\n"
     ]
    }
   ],
   "source": [
    "contr_mean = raw_data_2.iloc[3]['contr']\n",
    "print(contr_mean)"
   ]
  },
  {
   "cell_type": "code",
   "execution_count": 54,
   "metadata": {},
   "outputs": [
    {
     "output_type": "stream",
     "name": "stdout",
     "text": [
      "    contr          S_1          S_2          S_3           S_4          S_5  \\\n0  3111.0  2111.000000  1299.000000  4444.000000  44231.000000  4232.000000   \n1  3221.0  2324.000000  1300.000000  3616.000000  44200.000000  5000.000000   \n2  3331.0  2537.000000  1301.000000  4428.000000  44652.000000  4443.000000   \n3  3221.0  2324.000000  1300.000000  4162.666667  44361.000000  4558.333333   \n4   100.0    72.151506    40.360137   129.235227   1377.243092   141.519197   \n\n           S_6          S_7          S_8  \n0  6161.000000  6497.000000  2584.000000  \n1  2509.000000  4230.000000  2504.000000  \n2  4441.000000  4256.000000  2555.000000  \n3  4370.333333  4994.333333  2547.666667  \n4   135.682500   155.055366    79.095519  \n"
     ]
    }
   ],
   "source": [
    "raw_data_3 = raw_data_2.append((100*raw_data_2.iloc[3]/contr_mean), ignore_index=True)\n",
    "print(raw_data_3)"
   ]
  },
  {
   "cell_type": "code",
   "execution_count": 55,
   "metadata": {},
   "outputs": [
    {
     "output_type": "stream",
     "name": "stdout",
     "text": [
      "contr     100.000000\nS_1        72.151506\nS_2        40.360137\nS_3       129.235227\nS_4      1377.243092\nS_5       141.519197\nS_6       135.682500\nS_7       155.055366\nS_8        79.095519\nName: 4, dtype: float64\n"
     ]
    }
   ],
   "source": [
    "print(raw_data_3.iloc[4])"
   ]
  },
  {
   "cell_type": "code",
   "execution_count": null,
   "metadata": {},
   "outputs": [],
   "source": []
  }
 ]
}